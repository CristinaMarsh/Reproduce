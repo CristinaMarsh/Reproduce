{
  "nbformat": 4,
  "nbformat_minor": 0,
  "metadata": {
    "colab": {
      "name": "Soft DTW for PyTorch in CUDA.ipynb",
      "provenance": [],
      "authorship_tag": "ABX9TyOfZj1U87uIcdF5oFFg7Xxd",
      "include_colab_link": true
    },
    "kernelspec": {
      "name": "python3",
      "display_name": "Python 3"
    },
    "language_info": {
      "name": "python"
    },
    "accelerator": "GPU"
  },
  "cells": [
    {
      "cell_type": "markdown",
      "metadata": {
        "id": "view-in-github",
        "colab_type": "text"
      },
      "source": [
        "<a href=\"https://colab.research.google.com/github/CristinaMarsh/Reproduce/blob/main/TimeSeries/Soft_DTW_for_PyTorch_in_CUDA.ipynb\" target=\"_parent\"><img src=\"https://colab.research.google.com/assets/colab-badge.svg\" alt=\"Open In Colab\"/></a>"
      ]
    },
    {
      "cell_type": "code",
      "execution_count": 1,
      "metadata": {
        "colab": {
          "base_uri": "https://localhost:8080/"
        },
        "id": "kd9BYdRIPZ-m",
        "outputId": "866507a2-5c7e-4a60-ff82-b6cb12e5bde7"
      },
      "outputs": [
        {
          "output_type": "stream",
          "name": "stdout",
          "text": [
            "Cloning into 'pytorch-softdtw-cuda'...\n",
            "remote: Enumerating objects: 32, done.\u001b[K\n",
            "remote: Counting objects: 100% (32/32), done.\u001b[K\n",
            "remote: Compressing objects: 100% (21/21), done.\u001b[K\n",
            "remote: Total 32 (delta 17), reused 25 (delta 11), pack-reused 0\u001b[K\n",
            "Unpacking objects: 100% (32/32), done.\n"
          ]
        }
      ],
      "source": [
        "! git clone https://github.com/Maghoumi/pytorch-softdtw-cuda.git"
      ]
    },
    {
      "cell_type": "code",
      "source": [
        "%cd pytorch-softdtw-cuda/"
      ],
      "metadata": {
        "colab": {
          "base_uri": "https://localhost:8080/"
        },
        "id": "TzqVbL1KPdgS",
        "outputId": "63a61c12-1dcc-459a-9cd3-72d31b9cda08"
      },
      "execution_count": 2,
      "outputs": [
        {
          "output_type": "stream",
          "name": "stdout",
          "text": [
            "/content/pytorch-softdtw-cuda\n"
          ]
        }
      ]
    },
    {
      "cell_type": "code",
      "source": [
        "from soft_dtw_cuda import SoftDTW"
      ],
      "metadata": {
        "id": "ZpQOnkvEPoG4"
      },
      "execution_count": 3,
      "outputs": []
    },
    {
      "cell_type": "code",
      "source": [
        "import torch \n",
        "\n",
        "# Create the sequences\n",
        "batch_size, len_x, len_y, dims = 8, 15, 12, 5\n",
        "x = torch.rand((batch_size, len_x, dims), requires_grad=True)\n",
        "y = torch.rand((batch_size, len_y, dims))\n",
        "# Transfer tensors to the GPU\n",
        "x = x.cuda()\n",
        "y = y.cuda()\n",
        "\n",
        "# Create the \"criterion\" object\n",
        "sdtw = SoftDTW(use_cuda=True, gamma=0.1)\n",
        "\n",
        "# Compute the loss value\n",
        "loss = sdtw(x, y)  # Just like any torch.nn.xyzLoss()\n",
        "\n",
        "# Aggregate and call backward()\n",
        "loss.mean().backward()"
      ],
      "metadata": {
        "id": "Ji2xmqAPPpsy"
      },
      "execution_count": 5,
      "outputs": []
    },
    {
      "cell_type": "code",
      "source": [
        ""
      ],
      "metadata": {
        "id": "hTplube5PtBd"
      },
      "execution_count": null,
      "outputs": []
    }
  ]
}