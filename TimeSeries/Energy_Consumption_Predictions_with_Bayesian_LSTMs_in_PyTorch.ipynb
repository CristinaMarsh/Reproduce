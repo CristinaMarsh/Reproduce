{
  "nbformat": 4,
  "nbformat_minor": 0,
  "metadata": {
    "colab": {
      "name": "Energy Consumption Predictions with Bayesian LSTMs in PyTorch.ipynb",
      "provenance": [],
      "collapsed_sections": [],
      "include_colab_link": true
    },
    "kernelspec": {
      "name": "python3",
      "display_name": "Python 3"
    }
  },
  "cells": [
    {
      "cell_type": "markdown",
      "metadata": {
        "id": "view-in-github",
        "colab_type": "text"
      },
      "source": [
        "<a href=\"https://colab.research.google.com/github/CristinaMarsh/Reproduce/blob/main/TimeSeries/Energy_Consumption_Predictions_with_Bayesian_LSTMs_in_PyTorch.ipynb\" target=\"_parent\"><img src=\"https://colab.research.google.com/assets/colab-badge.svg\" alt=\"Open In Colab\"/></a>"
      ]
    },
    {
      "cell_type": "markdown",
      "metadata": {
        "id": "VHRshe9Y-Q0Q"
      },
      "source": [
        "# Energy Consumption Predictions with Bayesian LSTMs in PyTorch"
      ]
    },
    {
      "cell_type": "markdown",
      "metadata": {
        "id": "8GGWUqKU1paW"
      },
      "source": [
        "Author: Pawarit Laosunthara\n",
        "\n"
      ]
    },
    {
      "cell_type": "markdown",
      "metadata": {
        "id": "3FQQioKQ-Tkr"
      },
      "source": [
        "# **Important Note for GitHub Readers:**\n",
        "Please click the **Open in Colab** button above in order to view all **interactive visualizations**.\n",
        "\n",
        "This notebook demonstrates an implementation of an (Approximate) Bayesian Recurrent Neural Network in PyTorch, originally inspired by the *Deep and Confident Prediction for Time Series at Uber* (https://arxiv.org/pdf/1709.01907.pdf)\n",
        "\n",
        "<br>\n",
        "\n",
        "In this approach, Monte Carlo dropout is used to **approximate** Bayesian inference, allowing our predictions to have explicit uncertainties and confidence intervals. This property makes Bayesian Neural Networks highly appealing to critical applications requiring uncertainty quantification.\n",
        "The *Appliances energy prediction* dataset used in this example is from the UCI Machine Learning Repository (https://archive.ics.uci.edu/ml/datasets/Appliances+energy+prediction)\n",
        "\n",
        "\n",
        "**Note:** this notebook purely serves to demonstrate the implementation of Bayesian LSTMs (Long Short-Term Memory) networks in PyTorch. Therefore, extensive data exploration and feature engineering is not part of the scope of this investigation."
      ]
    },
    {
      "cell_type": "markdown",
      "metadata": {
        "id": "psI_d17Y_3_9"
      },
      "source": [
        "# Preliminary Data Wrangling"
      ]
    },
    {
      "cell_type": "markdown",
      "metadata": {
        "id": "OFY02qDSAbqI"
      },
      "source": [
        "**Selected Columns:**\n",
        "\n",
        "For simplicity and speed when running this notebook, only temporal and autoregressive features are used.\n",
        "\n",
        "- date time year-month-day hour:minute:second, sampled every 10 minutes \\\n",
        "- Appliances, energy use in Wh for the corresponding 10-minute timestamp \\\n",
        "- day_of_week, where Monday corresponds to 0 \\\n",
        "- hour_of_day\n"
      ]
    },
    {
      "cell_type": "code",
      "metadata": {
        "id": "uWNK0BtB2W0E"
      },
      "source": [
        "import pandas as pd"
      ],
      "execution_count": 1,
      "outputs": []
    },
    {
      "cell_type": "code",
      "metadata": {
        "id": "WDYp3nRh-Bpv"
      },
      "source": [
        "energy_df = pd.read_csv('https://archive.ics.uci.edu/ml/machine-learning-databases/00374/energydata_complete.csv')\n",
        "\n",
        "energy_df['date'] = pd.to_datetime(energy_df['date'])\n",
        "\n",
        "energy_df['month'] = energy_df['date'].dt.month.astype(int)\n",
        "energy_df['day_of_month'] = energy_df['date'].dt.day.astype(int)\n",
        "\n",
        "# day_of_week=0 corresponds to Monday\n",
        "energy_df['day_of_week'] = energy_df['date'].dt.dayofweek.astype(int)\n",
        "energy_df['hour_of_day'] = energy_df['date'].dt.hour.astype(int)\n",
        "\n",
        "selected_columns = ['date', 'day_of_week', 'hour_of_day', 'Appliances']\n",
        "energy_df = energy_df[selected_columns]"
      ],
      "execution_count": 2,
      "outputs": []
    },
    {
      "cell_type": "code",
      "metadata": {
        "id": "vv4cV2qr-E-8",
        "colab": {
          "base_uri": "https://localhost:8080/",
          "height": 206
        },
        "outputId": "6a01c4fc-cc4b-4695-bb8a-bc49bcf06bb3"
      },
      "source": [
        "energy_df.head()"
      ],
      "execution_count": 3,
      "outputs": [
        {
          "output_type": "execute_result",
          "data": {
            "text/plain": [
              "                 date  day_of_week  hour_of_day  Appliances\n",
              "0 2016-01-11 17:00:00            0           17          60\n",
              "1 2016-01-11 17:10:00            0           17          60\n",
              "2 2016-01-11 17:20:00            0           17          50\n",
              "3 2016-01-11 17:30:00            0           17          50\n",
              "4 2016-01-11 17:40:00            0           17          60"
            ],
            "text/html": [
              "\n",
              "  <div id=\"df-d9f09bca-3282-4388-8f74-3608d74193b3\">\n",
              "    <div class=\"colab-df-container\">\n",
              "      <div>\n",
              "<style scoped>\n",
              "    .dataframe tbody tr th:only-of-type {\n",
              "        vertical-align: middle;\n",
              "    }\n",
              "\n",
              "    .dataframe tbody tr th {\n",
              "        vertical-align: top;\n",
              "    }\n",
              "\n",
              "    .dataframe thead th {\n",
              "        text-align: right;\n",
              "    }\n",
              "</style>\n",
              "<table border=\"1\" class=\"dataframe\">\n",
              "  <thead>\n",
              "    <tr style=\"text-align: right;\">\n",
              "      <th></th>\n",
              "      <th>date</th>\n",
              "      <th>day_of_week</th>\n",
              "      <th>hour_of_day</th>\n",
              "      <th>Appliances</th>\n",
              "    </tr>\n",
              "  </thead>\n",
              "  <tbody>\n",
              "    <tr>\n",
              "      <th>0</th>\n",
              "      <td>2016-01-11 17:00:00</td>\n",
              "      <td>0</td>\n",
              "      <td>17</td>\n",
              "      <td>60</td>\n",
              "    </tr>\n",
              "    <tr>\n",
              "      <th>1</th>\n",
              "      <td>2016-01-11 17:10:00</td>\n",
              "      <td>0</td>\n",
              "      <td>17</td>\n",
              "      <td>60</td>\n",
              "    </tr>\n",
              "    <tr>\n",
              "      <th>2</th>\n",
              "      <td>2016-01-11 17:20:00</td>\n",
              "      <td>0</td>\n",
              "      <td>17</td>\n",
              "      <td>50</td>\n",
              "    </tr>\n",
              "    <tr>\n",
              "      <th>3</th>\n",
              "      <td>2016-01-11 17:30:00</td>\n",
              "      <td>0</td>\n",
              "      <td>17</td>\n",
              "      <td>50</td>\n",
              "    </tr>\n",
              "    <tr>\n",
              "      <th>4</th>\n",
              "      <td>2016-01-11 17:40:00</td>\n",
              "      <td>0</td>\n",
              "      <td>17</td>\n",
              "      <td>60</td>\n",
              "    </tr>\n",
              "  </tbody>\n",
              "</table>\n",
              "</div>\n",
              "      <button class=\"colab-df-convert\" onclick=\"convertToInteractive('df-d9f09bca-3282-4388-8f74-3608d74193b3')\"\n",
              "              title=\"Convert this dataframe to an interactive table.\"\n",
              "              style=\"display:none;\">\n",
              "        \n",
              "  <svg xmlns=\"http://www.w3.org/2000/svg\" height=\"24px\"viewBox=\"0 0 24 24\"\n",
              "       width=\"24px\">\n",
              "    <path d=\"M0 0h24v24H0V0z\" fill=\"none\"/>\n",
              "    <path d=\"M18.56 5.44l.94 2.06.94-2.06 2.06-.94-2.06-.94-.94-2.06-.94 2.06-2.06.94zm-11 1L8.5 8.5l.94-2.06 2.06-.94-2.06-.94L8.5 2.5l-.94 2.06-2.06.94zm10 10l.94 2.06.94-2.06 2.06-.94-2.06-.94-.94-2.06-.94 2.06-2.06.94z\"/><path d=\"M17.41 7.96l-1.37-1.37c-.4-.4-.92-.59-1.43-.59-.52 0-1.04.2-1.43.59L10.3 9.45l-7.72 7.72c-.78.78-.78 2.05 0 2.83L4 21.41c.39.39.9.59 1.41.59.51 0 1.02-.2 1.41-.59l7.78-7.78 2.81-2.81c.8-.78.8-2.07 0-2.86zM5.41 20L4 18.59l7.72-7.72 1.47 1.35L5.41 20z\"/>\n",
              "  </svg>\n",
              "      </button>\n",
              "      \n",
              "  <style>\n",
              "    .colab-df-container {\n",
              "      display:flex;\n",
              "      flex-wrap:wrap;\n",
              "      gap: 12px;\n",
              "    }\n",
              "\n",
              "    .colab-df-convert {\n",
              "      background-color: #E8F0FE;\n",
              "      border: none;\n",
              "      border-radius: 50%;\n",
              "      cursor: pointer;\n",
              "      display: none;\n",
              "      fill: #1967D2;\n",
              "      height: 32px;\n",
              "      padding: 0 0 0 0;\n",
              "      width: 32px;\n",
              "    }\n",
              "\n",
              "    .colab-df-convert:hover {\n",
              "      background-color: #E2EBFA;\n",
              "      box-shadow: 0px 1px 2px rgba(60, 64, 67, 0.3), 0px 1px 3px 1px rgba(60, 64, 67, 0.15);\n",
              "      fill: #174EA6;\n",
              "    }\n",
              "\n",
              "    [theme=dark] .colab-df-convert {\n",
              "      background-color: #3B4455;\n",
              "      fill: #D2E3FC;\n",
              "    }\n",
              "\n",
              "    [theme=dark] .colab-df-convert:hover {\n",
              "      background-color: #434B5C;\n",
              "      box-shadow: 0px 1px 3px 1px rgba(0, 0, 0, 0.15);\n",
              "      filter: drop-shadow(0px 1px 2px rgba(0, 0, 0, 0.3));\n",
              "      fill: #FFFFFF;\n",
              "    }\n",
              "  </style>\n",
              "\n",
              "      <script>\n",
              "        const buttonEl =\n",
              "          document.querySelector('#df-d9f09bca-3282-4388-8f74-3608d74193b3 button.colab-df-convert');\n",
              "        buttonEl.style.display =\n",
              "          google.colab.kernel.accessAllowed ? 'block' : 'none';\n",
              "\n",
              "        async function convertToInteractive(key) {\n",
              "          const element = document.querySelector('#df-d9f09bca-3282-4388-8f74-3608d74193b3');\n",
              "          const dataTable =\n",
              "            await google.colab.kernel.invokeFunction('convertToInteractive',\n",
              "                                                     [key], {});\n",
              "          if (!dataTable) return;\n",
              "\n",
              "          const docLinkHtml = 'Like what you see? Visit the ' +\n",
              "            '<a target=\"_blank\" href=https://colab.research.google.com/notebooks/data_table.ipynb>data table notebook</a>'\n",
              "            + ' to learn more about interactive tables.';\n",
              "          element.innerHTML = '';\n",
              "          dataTable['output_type'] = 'display_data';\n",
              "          await google.colab.output.renderOutput(dataTable, element);\n",
              "          const docLink = document.createElement('div');\n",
              "          docLink.innerHTML = docLinkHtml;\n",
              "          element.appendChild(docLink);\n",
              "        }\n",
              "      </script>\n",
              "    </div>\n",
              "  </div>\n",
              "  "
            ]
          },
          "metadata": {},
          "execution_count": 3
        }
      ]
    },
    {
      "cell_type": "markdown",
      "metadata": {
        "id": "d8BJQAqaJqv7"
      },
      "source": [
        "## Time Series Transformations\n",
        "\n",
        "1. The dataset is to be re-sampled at an hourly rate for more meaningful analytics.\n",
        "\n",
        "2. To alleviate exponential effects, the target variable is log-transformed as per the Uber paper.\n",
        "\n",
        "3. For simplicity and speed when running this notebook, only temporal and autoregressive features, namely `day_of_week`, `hour_of_day`, \\\n",
        "and previous values of `Appliances` are used as features"
      ]
    },
    {
      "cell_type": "code",
      "metadata": {
        "id": "LcXp9XEaJqXO"
      },
      "source": [
        "import numpy as np\n",
        "\n",
        "resample_df = energy_df.set_index('date').resample('1H').mean()\n",
        "resample_df['date'] = resample_df.index\n",
        "resample_df['log_energy_consumption'] = np.log(resample_df['Appliances'])\n",
        "\n",
        "datetime_columns = ['date', 'day_of_week', 'hour_of_day']\n",
        "target_column = 'log_energy_consumption'\n",
        "\n",
        "feature_columns = datetime_columns + ['log_energy_consumption']\n",
        "\n",
        "# For clarity in visualization and presentation, \n",
        "# only consider the first 150 hours of data.\n",
        "resample_df = resample_df[feature_columns]"
      ],
      "execution_count": 4,
      "outputs": []
    },
    {
      "cell_type": "code",
      "metadata": {
        "id": "tY1pfEIGDvvc",
        "colab": {
          "base_uri": "https://localhost:8080/",
          "height": 542
        },
        "outputId": "e5fbdfd9-da0b-4d05-be09-e627a96a65f2"
      },
      "source": [
        "import plotly.express as px\n",
        "\n",
        "plot_length = 150\n",
        "plot_df = resample_df.copy(deep=True).iloc[:plot_length]\n",
        "plot_df['weekday'] = plot_df['date'].dt.day_name()\n",
        "\n",
        "fig = px.line(plot_df,\n",
        "              x=\"date\",\n",
        "              y=\"log_energy_consumption\", \n",
        "              color=\"weekday\", \n",
        "              title=\"Log of Appliance Energy Consumption vs Time\")\n",
        "fig.show()"
      ],
      "execution_count": 5,
      "outputs": [
        {
          "output_type": "display_data",
          "data": {
            "text/html": [
              "<html>\n",
              "<head><meta charset=\"utf-8\" /></head>\n",
              "<body>\n",
              "    <div>            <script src=\"https://cdnjs.cloudflare.com/ajax/libs/mathjax/2.7.5/MathJax.js?config=TeX-AMS-MML_SVG\"></script><script type=\"text/javascript\">if (window.MathJax) {MathJax.Hub.Config({SVG: {font: \"STIX-Web\"}});}</script>                <script type=\"text/javascript\">window.PlotlyConfig = {MathJaxConfig: 'local'};</script>\n",
              "        <script src=\"https://cdn.plot.ly/plotly-2.8.3.min.js\"></script>                <div id=\"5dc3639a-4b73-4b0a-a468-3eb05b6d0fa0\" class=\"plotly-graph-div\" style=\"height:525px; width:100%;\"></div>            <script type=\"text/javascript\">                                    window.PLOTLYENV=window.PLOTLYENV || {};                                    if (document.getElementById(\"5dc3639a-4b73-4b0a-a468-3eb05b6d0fa0\")) {                    Plotly.newPlot(                        \"5dc3639a-4b73-4b0a-a468-3eb05b6d0fa0\",                        [{\"hovertemplate\":\"weekday=Monday<br>date=%{x}<br>log_energy_consumption=%{y}<extra></extra>\",\"legendgroup\":\"Monday\",\"line\":{\"color\":\"#636efa\",\"dash\":\"solid\"},\"marker\":{\"symbol\":\"circle\"},\"mode\":\"lines\",\"name\":\"Monday\",\"orientation\":\"v\",\"showlegend\":true,\"x\":[\"2016-01-11T17:00:00\",\"2016-01-11T18:00:00\",\"2016-01-11T19:00:00\",\"2016-01-11T20:00:00\",\"2016-01-11T21:00:00\",\"2016-01-11T22:00:00\",\"2016-01-11T23:00:00\"],\"xaxis\":\"x\",\"y\":[4.007333185232471,5.174264717878057,5.155216522907363,4.8283137373023015,4.637960008811082,5.585999438999818,4.037186148382152],\"yaxis\":\"y\",\"type\":\"scatter\"},{\"hovertemplate\":\"weekday=Tuesday<br>date=%{x}<br>log_energy_consumption=%{y}<extra></extra>\",\"legendgroup\":\"Tuesday\",\"line\":{\"color\":\"#EF553B\",\"dash\":\"solid\"},\"marker\":{\"symbol\":\"circle\"},\"mode\":\"lines\",\"name\":\"Tuesday\",\"orientation\":\"v\",\"showlegend\":true,\"x\":[\"2016-01-12T00:00:00\",\"2016-01-12T01:00:00\",\"2016-01-12T02:00:00\",\"2016-01-12T03:00:00\",\"2016-01-12T04:00:00\",\"2016-01-12T05:00:00\",\"2016-01-12T06:00:00\",\"2016-01-12T07:00:00\",\"2016-01-12T08:00:00\",\"2016-01-12T09:00:00\",\"2016-01-12T10:00:00\",\"2016-01-12T11:00:00\",\"2016-01-12T12:00:00\",\"2016-01-12T13:00:00\",\"2016-01-12T14:00:00\",\"2016-01-12T15:00:00\",\"2016-01-12T16:00:00\",\"2016-01-12T17:00:00\",\"2016-01-12T18:00:00\",\"2016-01-12T19:00:00\",\"2016-01-12T20:00:00\",\"2016-01-12T21:00:00\",\"2016-01-12T22:00:00\",\"2016-01-12T23:00:00\"],\"xaxis\":\"x\",\"y\":[4.953476880256307,5.12594614060725,3.8066624897703196,3.5553480614894135,3.8066624897703196,3.7689221617874726,3.6888794541139363,4.037186148382152,4.4620693423474185,3.7689221617874726,5.438079308923196,4.007333185232471,5.2293244950610855,5.02168513028284,4.917544871030244,3.6018680771243066,3.6888794541139363,5.386022946967143,4.0661736852554045,4.007333185232471,3.9448128282511368,3.7297014486341915,3.8430301339411947,3.7689221617874726],\"yaxis\":\"y\",\"type\":\"scatter\"},{\"hovertemplate\":\"weekday=Wednesday<br>date=%{x}<br>log_energy_consumption=%{y}<extra></extra>\",\"legendgroup\":\"Wednesday\",\"line\":{\"color\":\"#00cc96\",\"dash\":\"solid\"},\"marker\":{\"symbol\":\"circle\"},\"mode\":\"lines\",\"name\":\"Wednesday\",\"orientation\":\"v\",\"showlegend\":true,\"x\":[\"2016-01-13T00:00:00\",\"2016-01-13T01:00:00\",\"2016-01-13T02:00:00\",\"2016-01-13T03:00:00\",\"2016-01-13T04:00:00\",\"2016-01-13T05:00:00\",\"2016-01-13T06:00:00\",\"2016-01-13T07:00:00\",\"2016-01-13T08:00:00\",\"2016-01-13T09:00:00\",\"2016-01-13T10:00:00\",\"2016-01-13T11:00:00\",\"2016-01-13T12:00:00\",\"2016-01-13T13:00:00\",\"2016-01-13T14:00:00\",\"2016-01-13T15:00:00\",\"2016-01-13T16:00:00\",\"2016-01-13T17:00:00\",\"2016-01-13T18:00:00\",\"2016-01-13T19:00:00\",\"2016-01-13T20:00:00\",\"2016-01-13T21:00:00\",\"2016-01-13T22:00:00\",\"2016-01-13T23:00:00\"],\"xaxis\":\"x\",\"y\":[3.455264602932431,3.8781214537524646,3.8066624897703196,3.455264602932431,3.8066624897703196,3.7297014486341915,4.199705077879927,4.148411783492376,5.339139361068292,5.393627546352362,4.199705077879927,4.0943445622221,3.7297014486341915,3.5553480614894135,3.8066624897703196,3.7297014486341915,4.382026634673881,4.5712686343124105,4.715518243156957,5.362855887685608,5.51477192971145,5.74726758659594,4.880273476233012,3.7297014486341915],\"yaxis\":\"y\",\"type\":\"scatter\"},{\"hovertemplate\":\"weekday=Thursday<br>date=%{x}<br>log_energy_consumption=%{y}<extra></extra>\",\"legendgroup\":\"Thursday\",\"line\":{\"color\":\"#ab63fa\",\"dash\":\"solid\"},\"marker\":{\"symbol\":\"circle\"},\"mode\":\"lines\",\"name\":\"Thursday\",\"orientation\":\"v\",\"showlegend\":true,\"x\":[\"2016-01-14T00:00:00\",\"2016-01-14T01:00:00\",\"2016-01-14T02:00:00\",\"2016-01-14T03:00:00\",\"2016-01-14T04:00:00\",\"2016-01-14T05:00:00\",\"2016-01-14T06:00:00\",\"2016-01-14T07:00:00\",\"2016-01-14T08:00:00\",\"2016-01-14T09:00:00\",\"2016-01-14T10:00:00\",\"2016-01-14T11:00:00\",\"2016-01-14T12:00:00\",\"2016-01-14T13:00:00\",\"2016-01-14T14:00:00\",\"2016-01-14T15:00:00\",\"2016-01-14T16:00:00\",\"2016-01-14T17:00:00\",\"2016-01-14T18:00:00\",\"2016-01-14T19:00:00\",\"2016-01-14T20:00:00\",\"2016-01-14T21:00:00\",\"2016-01-14T22:00:00\",\"2016-01-14T23:00:00\"],\"xaxis\":\"x\",\"y\":[3.8430301339411947,3.6018680771243066,3.7689221617874726,3.8066624897703196,3.5553480614894135,3.8066624897703196,3.6888794541139363,5.423480509502043,5.075173815233827,5.12594614060725,6.288477946988647,5.473670254025898,5.646624060816253,4.248495242049359,4.867534450455582,3.9448128282511368,5.731181448844316,6.003887067106539,5.378360074221573,5.445299556896682,4.700480365792417,4.75932086581535,3.8781214537524646,3.6463198396951406],\"yaxis\":\"y\",\"type\":\"scatter\"},{\"hovertemplate\":\"weekday=Friday<br>date=%{x}<br>log_energy_consumption=%{y}<extra></extra>\",\"legendgroup\":\"Friday\",\"line\":{\"color\":\"#FFA15A\",\"dash\":\"solid\"},\"marker\":{\"symbol\":\"circle\"},\"mode\":\"lines\",\"name\":\"Friday\",\"orientation\":\"v\",\"showlegend\":true,\"x\":[\"2016-01-15T00:00:00\",\"2016-01-15T01:00:00\",\"2016-01-15T02:00:00\",\"2016-01-15T03:00:00\",\"2016-01-15T04:00:00\",\"2016-01-15T05:00:00\",\"2016-01-15T06:00:00\",\"2016-01-15T07:00:00\",\"2016-01-15T08:00:00\",\"2016-01-15T09:00:00\",\"2016-01-15T10:00:00\",\"2016-01-15T11:00:00\",\"2016-01-15T12:00:00\",\"2016-01-15T13:00:00\",\"2016-01-15T14:00:00\",\"2016-01-15T15:00:00\",\"2016-01-15T16:00:00\",\"2016-01-15T17:00:00\",\"2016-01-15T18:00:00\",\"2016-01-15T19:00:00\",\"2016-01-15T20:00:00\",\"2016-01-15T21:00:00\",\"2016-01-15T22:00:00\",\"2016-01-15T23:00:00\"],\"xaxis\":\"x\",\"y\":[3.9765615265657175,3.9448128282511368,3.8430301339411947,3.7689221617874726,3.912023005428146,3.912023005428146,3.8066624897703196,3.9448128282511368,5.459585514144159,5.331107189371028,4.8283137373023015,4.8283137373023015,5.3471075307174685,5.281510248231656,4.148411783492376,4.037186148382152,4.037186148382152,4.58836306767171,5.628819436182746,5.393627546352362,5.452468046375295,5.438079308923196,5.386022946967143,4.148411783492376],\"yaxis\":\"y\",\"type\":\"scatter\"},{\"hovertemplate\":\"weekday=Saturday<br>date=%{x}<br>log_energy_consumption=%{y}<extra></extra>\",\"legendgroup\":\"Saturday\",\"line\":{\"color\":\"#19d3f3\",\"dash\":\"solid\"},\"marker\":{\"symbol\":\"circle\"},\"mode\":\"lines\",\"name\":\"Saturday\",\"orientation\":\"v\",\"showlegend\":true,\"x\":[\"2016-01-16T00:00:00\",\"2016-01-16T01:00:00\",\"2016-01-16T02:00:00\",\"2016-01-16T03:00:00\",\"2016-01-16T04:00:00\",\"2016-01-16T05:00:00\",\"2016-01-16T06:00:00\",\"2016-01-16T07:00:00\",\"2016-01-16T08:00:00\",\"2016-01-16T09:00:00\",\"2016-01-16T10:00:00\",\"2016-01-16T11:00:00\",\"2016-01-16T12:00:00\",\"2016-01-16T13:00:00\",\"2016-01-16T14:00:00\",\"2016-01-16T15:00:00\",\"2016-01-16T16:00:00\",\"2016-01-16T17:00:00\",\"2016-01-16T18:00:00\",\"2016-01-16T19:00:00\",\"2016-01-16T20:00:00\",\"2016-01-16T21:00:00\",\"2016-01-16T22:00:00\",\"2016-01-16T23:00:00\"],\"xaxis\":\"x\",\"y\":[3.6888794541139363,3.9765615265657175,3.8430301339411947,3.7297014486341915,3.912023005428146,3.6888794541139363,3.9448128282511368,5.508037897530106,4.941642422609304,4.121743536410215,4.272025739459553,3.9765615265657175,4.31748811353631,4.4620693423474185,4.272025739459553,5.339139361068292,4.31748811353631,5.579729825986222,6.159799861927197,5.970411137910149,4.773505500807306,4.787491742782046,5.135798437050262,4.007333185232471],\"yaxis\":\"y\",\"type\":\"scatter\"},{\"hovertemplate\":\"weekday=Sunday<br>date=%{x}<br>log_energy_consumption=%{y}<extra></extra>\",\"legendgroup\":\"Sunday\",\"line\":{\"color\":\"#FF6692\",\"dash\":\"solid\"},\"marker\":{\"symbol\":\"circle\"},\"mode\":\"lines\",\"name\":\"Sunday\",\"orientation\":\"v\",\"showlegend\":true,\"x\":[\"2016-01-17T00:00:00\",\"2016-01-17T01:00:00\",\"2016-01-17T02:00:00\",\"2016-01-17T03:00:00\",\"2016-01-17T04:00:00\",\"2016-01-17T05:00:00\",\"2016-01-17T06:00:00\",\"2016-01-17T07:00:00\",\"2016-01-17T08:00:00\",\"2016-01-17T09:00:00\",\"2016-01-17T10:00:00\",\"2016-01-17T11:00:00\",\"2016-01-17T12:00:00\",\"2016-01-17T13:00:00\",\"2016-01-17T14:00:00\",\"2016-01-17T15:00:00\",\"2016-01-17T16:00:00\",\"2016-01-17T17:00:00\",\"2016-01-17T18:00:00\",\"2016-01-17T19:00:00\",\"2016-01-17T20:00:00\",\"2016-01-17T21:00:00\",\"2016-01-17T22:00:00\"],\"xaxis\":\"x\",\"y\":[3.8430301339411947,3.9448128282511368,3.7689221617874726,3.912023005428146,3.9448128282511368,3.7689221617874726,3.8066624897703196,5.853159875730801,5.604575824572753,5.675611597689505,4.499809670330265,5.76309905181262,4.773505500807306,5.135798437050262,4.929666231562589,4.402645921876617,4.402645921876617,6.12029741895095,5.592229988750454,4.621699487939302,4.700480365792417,4.867534450455582,4.007333185232471],\"yaxis\":\"y\",\"type\":\"scatter\"}],                        {\"template\":{\"data\":{\"bar\":[{\"error_x\":{\"color\":\"#2a3f5f\"},\"error_y\":{\"color\":\"#2a3f5f\"},\"marker\":{\"line\":{\"color\":\"#E5ECF6\",\"width\":0.5},\"pattern\":{\"fillmode\":\"overlay\",\"size\":10,\"solidity\":0.2}},\"type\":\"bar\"}],\"barpolar\":[{\"marker\":{\"line\":{\"color\":\"#E5ECF6\",\"width\":0.5},\"pattern\":{\"fillmode\":\"overlay\",\"size\":10,\"solidity\":0.2}},\"type\":\"barpolar\"}],\"carpet\":[{\"aaxis\":{\"endlinecolor\":\"#2a3f5f\",\"gridcolor\":\"white\",\"linecolor\":\"white\",\"minorgridcolor\":\"white\",\"startlinecolor\":\"#2a3f5f\"},\"baxis\":{\"endlinecolor\":\"#2a3f5f\",\"gridcolor\":\"white\",\"linecolor\":\"white\",\"minorgridcolor\":\"white\",\"startlinecolor\":\"#2a3f5f\"},\"type\":\"carpet\"}],\"choropleth\":[{\"colorbar\":{\"outlinewidth\":0,\"ticks\":\"\"},\"type\":\"choropleth\"}],\"contour\":[{\"colorbar\":{\"outlinewidth\":0,\"ticks\":\"\"},\"colorscale\":[[0.0,\"#0d0887\"],[0.1111111111111111,\"#46039f\"],[0.2222222222222222,\"#7201a8\"],[0.3333333333333333,\"#9c179e\"],[0.4444444444444444,\"#bd3786\"],[0.5555555555555556,\"#d8576b\"],[0.6666666666666666,\"#ed7953\"],[0.7777777777777778,\"#fb9f3a\"],[0.8888888888888888,\"#fdca26\"],[1.0,\"#f0f921\"]],\"type\":\"contour\"}],\"contourcarpet\":[{\"colorbar\":{\"outlinewidth\":0,\"ticks\":\"\"},\"type\":\"contourcarpet\"}],\"heatmap\":[{\"colorbar\":{\"outlinewidth\":0,\"ticks\":\"\"},\"colorscale\":[[0.0,\"#0d0887\"],[0.1111111111111111,\"#46039f\"],[0.2222222222222222,\"#7201a8\"],[0.3333333333333333,\"#9c179e\"],[0.4444444444444444,\"#bd3786\"],[0.5555555555555556,\"#d8576b\"],[0.6666666666666666,\"#ed7953\"],[0.7777777777777778,\"#fb9f3a\"],[0.8888888888888888,\"#fdca26\"],[1.0,\"#f0f921\"]],\"type\":\"heatmap\"}],\"heatmapgl\":[{\"colorbar\":{\"outlinewidth\":0,\"ticks\":\"\"},\"colorscale\":[[0.0,\"#0d0887\"],[0.1111111111111111,\"#46039f\"],[0.2222222222222222,\"#7201a8\"],[0.3333333333333333,\"#9c179e\"],[0.4444444444444444,\"#bd3786\"],[0.5555555555555556,\"#d8576b\"],[0.6666666666666666,\"#ed7953\"],[0.7777777777777778,\"#fb9f3a\"],[0.8888888888888888,\"#fdca26\"],[1.0,\"#f0f921\"]],\"type\":\"heatmapgl\"}],\"histogram\":[{\"marker\":{\"pattern\":{\"fillmode\":\"overlay\",\"size\":10,\"solidity\":0.2}},\"type\":\"histogram\"}],\"histogram2d\":[{\"colorbar\":{\"outlinewidth\":0,\"ticks\":\"\"},\"colorscale\":[[0.0,\"#0d0887\"],[0.1111111111111111,\"#46039f\"],[0.2222222222222222,\"#7201a8\"],[0.3333333333333333,\"#9c179e\"],[0.4444444444444444,\"#bd3786\"],[0.5555555555555556,\"#d8576b\"],[0.6666666666666666,\"#ed7953\"],[0.7777777777777778,\"#fb9f3a\"],[0.8888888888888888,\"#fdca26\"],[1.0,\"#f0f921\"]],\"type\":\"histogram2d\"}],\"histogram2dcontour\":[{\"colorbar\":{\"outlinewidth\":0,\"ticks\":\"\"},\"colorscale\":[[0.0,\"#0d0887\"],[0.1111111111111111,\"#46039f\"],[0.2222222222222222,\"#7201a8\"],[0.3333333333333333,\"#9c179e\"],[0.4444444444444444,\"#bd3786\"],[0.5555555555555556,\"#d8576b\"],[0.6666666666666666,\"#ed7953\"],[0.7777777777777778,\"#fb9f3a\"],[0.8888888888888888,\"#fdca26\"],[1.0,\"#f0f921\"]],\"type\":\"histogram2dcontour\"}],\"mesh3d\":[{\"colorbar\":{\"outlinewidth\":0,\"ticks\":\"\"},\"type\":\"mesh3d\"}],\"parcoords\":[{\"line\":{\"colorbar\":{\"outlinewidth\":0,\"ticks\":\"\"}},\"type\":\"parcoords\"}],\"pie\":[{\"automargin\":true,\"type\":\"pie\"}],\"scatter\":[{\"marker\":{\"colorbar\":{\"outlinewidth\":0,\"ticks\":\"\"}},\"type\":\"scatter\"}],\"scatter3d\":[{\"line\":{\"colorbar\":{\"outlinewidth\":0,\"ticks\":\"\"}},\"marker\":{\"colorbar\":{\"outlinewidth\":0,\"ticks\":\"\"}},\"type\":\"scatter3d\"}],\"scattercarpet\":[{\"marker\":{\"colorbar\":{\"outlinewidth\":0,\"ticks\":\"\"}},\"type\":\"scattercarpet\"}],\"scattergeo\":[{\"marker\":{\"colorbar\":{\"outlinewidth\":0,\"ticks\":\"\"}},\"type\":\"scattergeo\"}],\"scattergl\":[{\"marker\":{\"colorbar\":{\"outlinewidth\":0,\"ticks\":\"\"}},\"type\":\"scattergl\"}],\"scattermapbox\":[{\"marker\":{\"colorbar\":{\"outlinewidth\":0,\"ticks\":\"\"}},\"type\":\"scattermapbox\"}],\"scatterpolar\":[{\"marker\":{\"colorbar\":{\"outlinewidth\":0,\"ticks\":\"\"}},\"type\":\"scatterpolar\"}],\"scatterpolargl\":[{\"marker\":{\"colorbar\":{\"outlinewidth\":0,\"ticks\":\"\"}},\"type\":\"scatterpolargl\"}],\"scatterternary\":[{\"marker\":{\"colorbar\":{\"outlinewidth\":0,\"ticks\":\"\"}},\"type\":\"scatterternary\"}],\"surface\":[{\"colorbar\":{\"outlinewidth\":0,\"ticks\":\"\"},\"colorscale\":[[0.0,\"#0d0887\"],[0.1111111111111111,\"#46039f\"],[0.2222222222222222,\"#7201a8\"],[0.3333333333333333,\"#9c179e\"],[0.4444444444444444,\"#bd3786\"],[0.5555555555555556,\"#d8576b\"],[0.6666666666666666,\"#ed7953\"],[0.7777777777777778,\"#fb9f3a\"],[0.8888888888888888,\"#fdca26\"],[1.0,\"#f0f921\"]],\"type\":\"surface\"}],\"table\":[{\"cells\":{\"fill\":{\"color\":\"#EBF0F8\"},\"line\":{\"color\":\"white\"}},\"header\":{\"fill\":{\"color\":\"#C8D4E3\"},\"line\":{\"color\":\"white\"}},\"type\":\"table\"}]},\"layout\":{\"annotationdefaults\":{\"arrowcolor\":\"#2a3f5f\",\"arrowhead\":0,\"arrowwidth\":1},\"autotypenumbers\":\"strict\",\"coloraxis\":{\"colorbar\":{\"outlinewidth\":0,\"ticks\":\"\"}},\"colorscale\":{\"diverging\":[[0,\"#8e0152\"],[0.1,\"#c51b7d\"],[0.2,\"#de77ae\"],[0.3,\"#f1b6da\"],[0.4,\"#fde0ef\"],[0.5,\"#f7f7f7\"],[0.6,\"#e6f5d0\"],[0.7,\"#b8e186\"],[0.8,\"#7fbc41\"],[0.9,\"#4d9221\"],[1,\"#276419\"]],\"sequential\":[[0.0,\"#0d0887\"],[0.1111111111111111,\"#46039f\"],[0.2222222222222222,\"#7201a8\"],[0.3333333333333333,\"#9c179e\"],[0.4444444444444444,\"#bd3786\"],[0.5555555555555556,\"#d8576b\"],[0.6666666666666666,\"#ed7953\"],[0.7777777777777778,\"#fb9f3a\"],[0.8888888888888888,\"#fdca26\"],[1.0,\"#f0f921\"]],\"sequentialminus\":[[0.0,\"#0d0887\"],[0.1111111111111111,\"#46039f\"],[0.2222222222222222,\"#7201a8\"],[0.3333333333333333,\"#9c179e\"],[0.4444444444444444,\"#bd3786\"],[0.5555555555555556,\"#d8576b\"],[0.6666666666666666,\"#ed7953\"],[0.7777777777777778,\"#fb9f3a\"],[0.8888888888888888,\"#fdca26\"],[1.0,\"#f0f921\"]]},\"colorway\":[\"#636efa\",\"#EF553B\",\"#00cc96\",\"#ab63fa\",\"#FFA15A\",\"#19d3f3\",\"#FF6692\",\"#B6E880\",\"#FF97FF\",\"#FECB52\"],\"font\":{\"color\":\"#2a3f5f\"},\"geo\":{\"bgcolor\":\"white\",\"lakecolor\":\"white\",\"landcolor\":\"#E5ECF6\",\"showlakes\":true,\"showland\":true,\"subunitcolor\":\"white\"},\"hoverlabel\":{\"align\":\"left\"},\"hovermode\":\"closest\",\"mapbox\":{\"style\":\"light\"},\"paper_bgcolor\":\"white\",\"plot_bgcolor\":\"#E5ECF6\",\"polar\":{\"angularaxis\":{\"gridcolor\":\"white\",\"linecolor\":\"white\",\"ticks\":\"\"},\"bgcolor\":\"#E5ECF6\",\"radialaxis\":{\"gridcolor\":\"white\",\"linecolor\":\"white\",\"ticks\":\"\"}},\"scene\":{\"xaxis\":{\"backgroundcolor\":\"#E5ECF6\",\"gridcolor\":\"white\",\"gridwidth\":2,\"linecolor\":\"white\",\"showbackground\":true,\"ticks\":\"\",\"zerolinecolor\":\"white\"},\"yaxis\":{\"backgroundcolor\":\"#E5ECF6\",\"gridcolor\":\"white\",\"gridwidth\":2,\"linecolor\":\"white\",\"showbackground\":true,\"ticks\":\"\",\"zerolinecolor\":\"white\"},\"zaxis\":{\"backgroundcolor\":\"#E5ECF6\",\"gridcolor\":\"white\",\"gridwidth\":2,\"linecolor\":\"white\",\"showbackground\":true,\"ticks\":\"\",\"zerolinecolor\":\"white\"}},\"shapedefaults\":{\"line\":{\"color\":\"#2a3f5f\"}},\"ternary\":{\"aaxis\":{\"gridcolor\":\"white\",\"linecolor\":\"white\",\"ticks\":\"\"},\"baxis\":{\"gridcolor\":\"white\",\"linecolor\":\"white\",\"ticks\":\"\"},\"bgcolor\":\"#E5ECF6\",\"caxis\":{\"gridcolor\":\"white\",\"linecolor\":\"white\",\"ticks\":\"\"}},\"title\":{\"x\":0.05},\"xaxis\":{\"automargin\":true,\"gridcolor\":\"white\",\"linecolor\":\"white\",\"ticks\":\"\",\"title\":{\"standoff\":15},\"zerolinecolor\":\"white\",\"zerolinewidth\":2},\"yaxis\":{\"automargin\":true,\"gridcolor\":\"white\",\"linecolor\":\"white\",\"ticks\":\"\",\"title\":{\"standoff\":15},\"zerolinecolor\":\"white\",\"zerolinewidth\":2}}},\"xaxis\":{\"anchor\":\"y\",\"domain\":[0.0,1.0],\"title\":{\"text\":\"date\"}},\"yaxis\":{\"anchor\":\"x\",\"domain\":[0.0,1.0],\"title\":{\"text\":\"log_energy_consumption\"}},\"legend\":{\"title\":{\"text\":\"weekday\"},\"tracegroupgap\":0},\"title\":{\"text\":\"Log of Appliance Energy Consumption vs Time\"}},                        {\"responsive\": true}                    ).then(function(){\n",
              "                            \n",
              "var gd = document.getElementById('5dc3639a-4b73-4b0a-a468-3eb05b6d0fa0');\n",
              "var x = new MutationObserver(function (mutations, observer) {{\n",
              "        var display = window.getComputedStyle(gd).display;\n",
              "        if (!display || display === 'none') {{\n",
              "            console.log([gd, 'removed!']);\n",
              "            Plotly.purge(gd);\n",
              "            observer.disconnect();\n",
              "        }}\n",
              "}});\n",
              "\n",
              "// Listen for the removal of the full notebook cells\n",
              "var notebookContainer = gd.closest('#notebook-container');\n",
              "if (notebookContainer) {{\n",
              "    x.observe(notebookContainer, {childList: true});\n",
              "}}\n",
              "\n",
              "// Listen for the clearing of the current output cell\n",
              "var outputEl = gd.closest('.output');\n",
              "if (outputEl) {{\n",
              "    x.observe(outputEl, {childList: true});\n",
              "}}\n",
              "\n",
              "                        })                };                            </script>        </div>\n",
              "</body>\n",
              "</html>"
            ]
          },
          "metadata": {}
        }
      ]
    },
    {
      "cell_type": "markdown",
      "metadata": {
        "id": "aFnQ3txg_2lj"
      },
      "source": [
        "# Prepare Training Data"
      ]
    },
    {
      "cell_type": "markdown",
      "metadata": {
        "id": "9gUa6m83NgDn"
      },
      "source": [
        "For this example, we will use sliding windows of 10 points per each window (equivalent to 10 hours) to predict each next point. The window size can be altered via the `sequence_length` variable.\n",
        "\n",
        "Min-Max scaling has also been fitted to the training data to aid the convergence of the neural network. "
      ]
    },
    {
      "cell_type": "code",
      "source": [
        "resample_df"
      ],
      "metadata": {
        "id": "33hFLi6Ea_G6",
        "outputId": "8b119f0a-38a9-4c99-b2a7-3b86418cd138",
        "colab": {
          "base_uri": "https://localhost:8080/",
          "height": 455
        }
      },
      "execution_count": 8,
      "outputs": [
        {
          "output_type": "execute_result",
          "data": {
            "text/plain": [
              "                                   date  day_of_week  hour_of_day  \\\n",
              "date                                                                \n",
              "2016-01-11 17:00:00 2016-01-11 17:00:00          0.0         17.0   \n",
              "2016-01-11 18:00:00 2016-01-11 18:00:00          0.0         18.0   \n",
              "2016-01-11 19:00:00 2016-01-11 19:00:00          0.0         19.0   \n",
              "2016-01-11 20:00:00 2016-01-11 20:00:00          0.0         20.0   \n",
              "2016-01-11 21:00:00 2016-01-11 21:00:00          0.0         21.0   \n",
              "...                                 ...          ...          ...   \n",
              "2016-05-27 14:00:00 2016-05-27 14:00:00          4.0         14.0   \n",
              "2016-05-27 15:00:00 2016-05-27 15:00:00          4.0         15.0   \n",
              "2016-05-27 16:00:00 2016-05-27 16:00:00          4.0         16.0   \n",
              "2016-05-27 17:00:00 2016-05-27 17:00:00          4.0         17.0   \n",
              "2016-05-27 18:00:00 2016-05-27 18:00:00          4.0         18.0   \n",
              "\n",
              "                     log_energy_consumption  \n",
              "date                                         \n",
              "2016-01-11 17:00:00                4.007333  \n",
              "2016-01-11 18:00:00                5.174265  \n",
              "2016-01-11 19:00:00                5.155217  \n",
              "2016-01-11 20:00:00                4.828314  \n",
              "2016-01-11 21:00:00                4.637960  \n",
              "...                                     ...  \n",
              "2016-05-27 14:00:00                4.621699  \n",
              "2016-05-27 15:00:00                4.339467  \n",
              "2016-05-27 16:00:00                4.905275  \n",
              "2016-05-27 17:00:00                5.192957  \n",
              "2016-05-27 18:00:00                6.063785  \n",
              "\n",
              "[3290 rows x 4 columns]"
            ],
            "text/html": [
              "\n",
              "  <div id=\"df-8af73ff7-99fc-4dd8-ba9c-1c5740b8490d\">\n",
              "    <div class=\"colab-df-container\">\n",
              "      <div>\n",
              "<style scoped>\n",
              "    .dataframe tbody tr th:only-of-type {\n",
              "        vertical-align: middle;\n",
              "    }\n",
              "\n",
              "    .dataframe tbody tr th {\n",
              "        vertical-align: top;\n",
              "    }\n",
              "\n",
              "    .dataframe thead th {\n",
              "        text-align: right;\n",
              "    }\n",
              "</style>\n",
              "<table border=\"1\" class=\"dataframe\">\n",
              "  <thead>\n",
              "    <tr style=\"text-align: right;\">\n",
              "      <th></th>\n",
              "      <th>date</th>\n",
              "      <th>day_of_week</th>\n",
              "      <th>hour_of_day</th>\n",
              "      <th>log_energy_consumption</th>\n",
              "    </tr>\n",
              "    <tr>\n",
              "      <th>date</th>\n",
              "      <th></th>\n",
              "      <th></th>\n",
              "      <th></th>\n",
              "      <th></th>\n",
              "    </tr>\n",
              "  </thead>\n",
              "  <tbody>\n",
              "    <tr>\n",
              "      <th>2016-01-11 17:00:00</th>\n",
              "      <td>2016-01-11 17:00:00</td>\n",
              "      <td>0.0</td>\n",
              "      <td>17.0</td>\n",
              "      <td>4.007333</td>\n",
              "    </tr>\n",
              "    <tr>\n",
              "      <th>2016-01-11 18:00:00</th>\n",
              "      <td>2016-01-11 18:00:00</td>\n",
              "      <td>0.0</td>\n",
              "      <td>18.0</td>\n",
              "      <td>5.174265</td>\n",
              "    </tr>\n",
              "    <tr>\n",
              "      <th>2016-01-11 19:00:00</th>\n",
              "      <td>2016-01-11 19:00:00</td>\n",
              "      <td>0.0</td>\n",
              "      <td>19.0</td>\n",
              "      <td>5.155217</td>\n",
              "    </tr>\n",
              "    <tr>\n",
              "      <th>2016-01-11 20:00:00</th>\n",
              "      <td>2016-01-11 20:00:00</td>\n",
              "      <td>0.0</td>\n",
              "      <td>20.0</td>\n",
              "      <td>4.828314</td>\n",
              "    </tr>\n",
              "    <tr>\n",
              "      <th>2016-01-11 21:00:00</th>\n",
              "      <td>2016-01-11 21:00:00</td>\n",
              "      <td>0.0</td>\n",
              "      <td>21.0</td>\n",
              "      <td>4.637960</td>\n",
              "    </tr>\n",
              "    <tr>\n",
              "      <th>...</th>\n",
              "      <td>...</td>\n",
              "      <td>...</td>\n",
              "      <td>...</td>\n",
              "      <td>...</td>\n",
              "    </tr>\n",
              "    <tr>\n",
              "      <th>2016-05-27 14:00:00</th>\n",
              "      <td>2016-05-27 14:00:00</td>\n",
              "      <td>4.0</td>\n",
              "      <td>14.0</td>\n",
              "      <td>4.621699</td>\n",
              "    </tr>\n",
              "    <tr>\n",
              "      <th>2016-05-27 15:00:00</th>\n",
              "      <td>2016-05-27 15:00:00</td>\n",
              "      <td>4.0</td>\n",
              "      <td>15.0</td>\n",
              "      <td>4.339467</td>\n",
              "    </tr>\n",
              "    <tr>\n",
              "      <th>2016-05-27 16:00:00</th>\n",
              "      <td>2016-05-27 16:00:00</td>\n",
              "      <td>4.0</td>\n",
              "      <td>16.0</td>\n",
              "      <td>4.905275</td>\n",
              "    </tr>\n",
              "    <tr>\n",
              "      <th>2016-05-27 17:00:00</th>\n",
              "      <td>2016-05-27 17:00:00</td>\n",
              "      <td>4.0</td>\n",
              "      <td>17.0</td>\n",
              "      <td>5.192957</td>\n",
              "    </tr>\n",
              "    <tr>\n",
              "      <th>2016-05-27 18:00:00</th>\n",
              "      <td>2016-05-27 18:00:00</td>\n",
              "      <td>4.0</td>\n",
              "      <td>18.0</td>\n",
              "      <td>6.063785</td>\n",
              "    </tr>\n",
              "  </tbody>\n",
              "</table>\n",
              "<p>3290 rows × 4 columns</p>\n",
              "</div>\n",
              "      <button class=\"colab-df-convert\" onclick=\"convertToInteractive('df-8af73ff7-99fc-4dd8-ba9c-1c5740b8490d')\"\n",
              "              title=\"Convert this dataframe to an interactive table.\"\n",
              "              style=\"display:none;\">\n",
              "        \n",
              "  <svg xmlns=\"http://www.w3.org/2000/svg\" height=\"24px\"viewBox=\"0 0 24 24\"\n",
              "       width=\"24px\">\n",
              "    <path d=\"M0 0h24v24H0V0z\" fill=\"none\"/>\n",
              "    <path d=\"M18.56 5.44l.94 2.06.94-2.06 2.06-.94-2.06-.94-.94-2.06-.94 2.06-2.06.94zm-11 1L8.5 8.5l.94-2.06 2.06-.94-2.06-.94L8.5 2.5l-.94 2.06-2.06.94zm10 10l.94 2.06.94-2.06 2.06-.94-2.06-.94-.94-2.06-.94 2.06-2.06.94z\"/><path d=\"M17.41 7.96l-1.37-1.37c-.4-.4-.92-.59-1.43-.59-.52 0-1.04.2-1.43.59L10.3 9.45l-7.72 7.72c-.78.78-.78 2.05 0 2.83L4 21.41c.39.39.9.59 1.41.59.51 0 1.02-.2 1.41-.59l7.78-7.78 2.81-2.81c.8-.78.8-2.07 0-2.86zM5.41 20L4 18.59l7.72-7.72 1.47 1.35L5.41 20z\"/>\n",
              "  </svg>\n",
              "      </button>\n",
              "      \n",
              "  <style>\n",
              "    .colab-df-container {\n",
              "      display:flex;\n",
              "      flex-wrap:wrap;\n",
              "      gap: 12px;\n",
              "    }\n",
              "\n",
              "    .colab-df-convert {\n",
              "      background-color: #E8F0FE;\n",
              "      border: none;\n",
              "      border-radius: 50%;\n",
              "      cursor: pointer;\n",
              "      display: none;\n",
              "      fill: #1967D2;\n",
              "      height: 32px;\n",
              "      padding: 0 0 0 0;\n",
              "      width: 32px;\n",
              "    }\n",
              "\n",
              "    .colab-df-convert:hover {\n",
              "      background-color: #E2EBFA;\n",
              "      box-shadow: 0px 1px 2px rgba(60, 64, 67, 0.3), 0px 1px 3px 1px rgba(60, 64, 67, 0.15);\n",
              "      fill: #174EA6;\n",
              "    }\n",
              "\n",
              "    [theme=dark] .colab-df-convert {\n",
              "      background-color: #3B4455;\n",
              "      fill: #D2E3FC;\n",
              "    }\n",
              "\n",
              "    [theme=dark] .colab-df-convert:hover {\n",
              "      background-color: #434B5C;\n",
              "      box-shadow: 0px 1px 3px 1px rgba(0, 0, 0, 0.15);\n",
              "      filter: drop-shadow(0px 1px 2px rgba(0, 0, 0, 0.3));\n",
              "      fill: #FFFFFF;\n",
              "    }\n",
              "  </style>\n",
              "\n",
              "      <script>\n",
              "        const buttonEl =\n",
              "          document.querySelector('#df-8af73ff7-99fc-4dd8-ba9c-1c5740b8490d button.colab-df-convert');\n",
              "        buttonEl.style.display =\n",
              "          google.colab.kernel.accessAllowed ? 'block' : 'none';\n",
              "\n",
              "        async function convertToInteractive(key) {\n",
              "          const element = document.querySelector('#df-8af73ff7-99fc-4dd8-ba9c-1c5740b8490d');\n",
              "          const dataTable =\n",
              "            await google.colab.kernel.invokeFunction('convertToInteractive',\n",
              "                                                     [key], {});\n",
              "          if (!dataTable) return;\n",
              "\n",
              "          const docLinkHtml = 'Like what you see? Visit the ' +\n",
              "            '<a target=\"_blank\" href=https://colab.research.google.com/notebooks/data_table.ipynb>data table notebook</a>'\n",
              "            + ' to learn more about interactive tables.';\n",
              "          element.innerHTML = '';\n",
              "          dataTable['output_type'] = 'display_data';\n",
              "          await google.colab.output.renderOutput(dataTable, element);\n",
              "          const docLink = document.createElement('div');\n",
              "          docLink.innerHTML = docLinkHtml;\n",
              "          element.appendChild(docLink);\n",
              "        }\n",
              "      </script>\n",
              "    </div>\n",
              "  </div>\n",
              "  "
            ]
          },
          "metadata": {},
          "execution_count": 8
        }
      ]
    },
    {
      "cell_type": "code",
      "metadata": {
        "id": "aKQHyh5rRVVj"
      },
      "source": [
        "from sklearn.preprocessing import MinMaxScaler\n",
        "\n",
        "def create_sliding_window(data, sequence_length, stride=1):\n",
        "    X_list, y_list = [], []\n",
        "    for i in range(len(data)):\n",
        "      if (i + sequence_length) < len(data):\n",
        "        X_list.append(data.iloc[i:i+sequence_length:stride, :].values)\n",
        "        y_list.append(data.iloc[i+sequence_length, -1])\n",
        "    return np.array(X_list), np.array(y_list)\n",
        "\n",
        "train_split = 0.7\n",
        "n_train = int(train_split * len(resample_df))\n",
        "n_test = len(resample_df) - n_train\n",
        "\n",
        "features = ['day_of_week', 'hour_of_day', 'log_energy_consumption']\n",
        "feature_array = resample_df[features].values\n",
        "\n",
        "# Fit Scaler only on Training features\n",
        "feature_scaler = MinMaxScaler()\n",
        "feature_scaler.fit(feature_array[:n_train])\n",
        "# Fit Scaler only on Training target values\n",
        "target_scaler = MinMaxScaler()\n",
        "target_scaler.fit(feature_array[:n_train, -1].reshape(-1, 1))\n",
        "\n",
        "# Transfom on both Training and Test data\n",
        "scaled_array = pd.DataFrame(feature_scaler.transform(feature_array),\n",
        "                            columns=features)\n",
        "\n",
        "sequence_length = 10\n",
        "X, y = create_sliding_window(scaled_array, \n",
        "                             sequence_length)\n",
        "\n",
        "X_train = X[:n_train]\n",
        "y_train = y[:n_train]\n",
        "\n",
        "X_test = X[n_train:]\n",
        "y_test = y[n_train:]"
      ],
      "execution_count": 6,
      "outputs": []
    },
    {
      "cell_type": "code",
      "source": [
        "X_train.shape, y_train.shape"
      ],
      "metadata": {
        "id": "DuUorzXGazY5",
        "outputId": "ad1df3f3-6472-4c2e-e435-ae1dcfb6a2fa",
        "colab": {
          "base_uri": "https://localhost:8080/"
        }
      },
      "execution_count": 7,
      "outputs": [
        {
          "output_type": "execute_result",
          "data": {
            "text/plain": [
              "((2303, 10, 3), (2303,))"
            ]
          },
          "metadata": {},
          "execution_count": 7
        }
      ]
    },
    {
      "cell_type": "markdown",
      "metadata": {
        "id": "Ue1JcZm_bgsd"
      },
      "source": [
        "# Define Bayesian LSTM Architecture"
      ]
    },
    {
      "cell_type": "markdown",
      "metadata": {
        "id": "VNag-wa-04WZ"
      },
      "source": [
        "To demonstrate a simple working example of the Bayesian LSTM, the model as defined in Uber's paper has been used a starting point. The network architecture is as follows:\n",
        "\n",
        "Encoder-Decoder Stage:\n",
        " - A uni-directional LSTM with 2 stacked layers & 128 hidden units acting as an encoding layer to construct a fixed-dimension embedding state\n",
        " - A uni-directional LSTM with 2 stacked layers & 32 hidden units acting as a decoding layer to produce predictions at future steps\n",
        " - Dropout is applied at **both** training and inference for both LSTM layers\n",
        "\n",
        "\n",
        " Predictor Stage:\n",
        " - 1 fully-connected output layer with 1 output (for predicting the target value) to produce a single value for the target variable\n",
        "\n",
        "\n",
        "By allowing dropout at both training and testing time, the model simulates random sampling, thus allowing varying predictions that can be used to estimate the underlying distribution of the target value, enabling explicit model uncertainties.\n"
      ]
    },
    {
      "cell_type": "code",
      "metadata": {
        "id": "OgWyOffPbO0b"
      },
      "source": [
        "import torch\n",
        "import torch.nn as nn\n",
        "import torch.nn.functional as F\n",
        "from torch.autograd import Variable\n",
        "\n",
        "class BayesianLSTM(nn.Module):\n",
        "\n",
        "    def __init__(self, n_features, output_length, batch_size):\n",
        "\n",
        "        super(BayesianLSTM, self).__init__()\n",
        "\n",
        "        self.batch_size = batch_size # user-defined\n",
        "\n",
        "        self.hidden_size_1 = 128 # number of encoder cells (from paper)\n",
        "        self.hidden_size_2 = 32 # number of decoder cells (from paper)\n",
        "        self.stacked_layers = 2 # number of (stacked) LSTM layers for each stage\n",
        "        self.dropout_probability = 0.5 # arbitrary value (the paper suggests that performance is generally stable across all ranges)\n",
        "\n",
        "        self.lstm1 = nn.LSTM(n_features, \n",
        "                             self.hidden_size_1, \n",
        "                             num_layers=self.stacked_layers,\n",
        "                             batch_first=True)\n",
        "        self.lstm2 = nn.LSTM(self.hidden_size_1,\n",
        "                             self.hidden_size_2,\n",
        "                             num_layers=self.stacked_layers,\n",
        "                             batch_first=True)\n",
        "        \n",
        "        self.fc = nn.Linear(self.hidden_size_2, output_length)\n",
        "        self.loss_fn = nn.MSELoss()\n",
        "        \n",
        "    def forward(self, x):\n",
        "        batch_size, seq_len, _ = x.size()\n",
        "\n",
        "        hidden = self.init_hidden1(batch_size)\n",
        "        output, _ = self.lstm1(x, hidden)\n",
        "        output = F.dropout(output, p=self.dropout_probability, training=True)\n",
        "        state = self.init_hidden2(batch_size)\n",
        "        output, state = self.lstm2(output, state)\n",
        "        output = F.dropout(output, p=self.dropout_probability, training=True)\n",
        "        output = output[:, -1, :] # take the last decoder cell's outputs\n",
        "        y_pred = self.fc(output)\n",
        "        return y_pred\n",
        "        \n",
        "    def init_hidden1(self, batch_size):\n",
        "        hidden_state = Variable(torch.zeros(self.stacked_layers, batch_size, self.hidden_size_1))\n",
        "        cell_state = Variable(torch.zeros(self.stacked_layers, batch_size, self.hidden_size_1))\n",
        "        return hidden_state, cell_state\n",
        "    \n",
        "    def init_hidden2(self, batch_size):\n",
        "        hidden_state = Variable(torch.zeros(self.stacked_layers, batch_size, self.hidden_size_2))\n",
        "        cell_state = Variable(torch.zeros(self.stacked_layers, batch_size, self.hidden_size_2))\n",
        "        return hidden_state, cell_state\n",
        "    \n",
        "    def loss(self, pred, truth):\n",
        "        return self.loss_fn(pred, truth)\n",
        "\n",
        "    def predict(self, X):\n",
        "        return self(torch.tensor(X, dtype=torch.float32)).view(-1).detach().numpy()"
      ],
      "execution_count": 9,
      "outputs": []
    },
    {
      "cell_type": "markdown",
      "metadata": {
        "id": "DQ8JLm-ShlaU"
      },
      "source": [
        "### Begin Training"
      ]
    },
    {
      "cell_type": "markdown",
      "metadata": {
        "id": "015pu48r3X1F"
      },
      "source": [
        "To train the Bayesian LSTM, we use the ADAM optimizer along with mini-batch gradient descent (`batch_size = 128`). For quick demonstration purposes, the model is trained for 150 epochs.\n",
        "\n",
        "The Bayesian LSTM is trained on the first 70% of data points, using the aforementioned sliding windows of size 10. The remaining 30% of the dataset is held out purely for testing."
      ]
    },
    {
      "cell_type": "code",
      "metadata": {
        "id": "47X-uO6UhbCy"
      },
      "source": [
        "n_features = scaled_array.shape[-1]\n",
        "sequence_length = 10\n",
        "output_length = 1\n",
        "\n",
        "batch_size = 128\n",
        "n_epochs = 150\n",
        "learning_rate = 0.01\n",
        "\n",
        "bayesian_lstm = BayesianLSTM(n_features=n_features,\n",
        "                             output_length=output_length,\n",
        "                             batch_size = batch_size)\n",
        "\n",
        "criterion = torch.nn.MSELoss()\n",
        "optimizer = torch.optim.Adam(bayesian_lstm.parameters(), lr=learning_rate)"
      ],
      "execution_count": 10,
      "outputs": []
    },
    {
      "cell_type": "code",
      "metadata": {
        "id": "7iZ__nxaCzZE",
        "colab": {
          "base_uri": "https://localhost:8080/"
        },
        "outputId": "b570428b-116c-4311-a48d-2b124f061081"
      },
      "source": [
        "bayesian_lstm.train()\n",
        "\n",
        "for e in range(1, n_epochs+1):\n",
        "    for b in range(0, len(X_train), batch_size):\n",
        "        features = X_train[b:b+batch_size,:,:]\n",
        "        target = y_train[b:b+batch_size]    \n",
        "\n",
        "        X_batch = torch.tensor(features,dtype=torch.float32)    \n",
        "        y_batch = torch.tensor(target,dtype=torch.float32)\n",
        "\n",
        "        output = bayesian_lstm(X_batch)\n",
        "        loss = criterion(output.view(-1), y_batch)  \n",
        "\n",
        "        loss.backward()\n",
        "        optimizer.step()        \n",
        "        optimizer.zero_grad() \n",
        "\n",
        "    if e % 10 == 0:\n",
        "      print('epoch', e, 'loss: ', loss.item())"
      ],
      "execution_count": 11,
      "outputs": [
        {
          "output_type": "stream",
          "name": "stdout",
          "text": [
            "epoch 10 loss:  0.02284831739962101\n",
            "epoch 20 loss:  0.01814061589539051\n",
            "epoch 30 loss:  0.016106022521853447\n",
            "epoch 40 loss:  0.016822615638375282\n",
            "epoch 50 loss:  0.01600656472146511\n",
            "epoch 60 loss:  0.013768557459115982\n",
            "epoch 70 loss:  0.011866888962686062\n",
            "epoch 80 loss:  0.009605730883777142\n",
            "epoch 90 loss:  0.00973594095557928\n",
            "epoch 100 loss:  0.012010269798338413\n",
            "epoch 110 loss:  0.010868457145988941\n",
            "epoch 120 loss:  0.00856927502900362\n",
            "epoch 130 loss:  0.007871927693486214\n",
            "epoch 140 loss:  0.006657514255493879\n",
            "epoch 150 loss:  0.008573180995881557\n"
          ]
        }
      ]
    },
    {
      "cell_type": "markdown",
      "metadata": {
        "id": "vUS459C6ro22"
      },
      "source": [
        "# Evaluating Model Performance"
      ]
    },
    {
      "cell_type": "markdown",
      "metadata": {
        "id": "iGYj2vTl311y"
      },
      "source": [
        "The Bayesian LSTM implemented is shown to produce reasonably accurate and sensible results on both the training and test sets, often comparable to other existing frequentist machine learning and deep learning methods.\n",
        "\n"
      ]
    },
    {
      "cell_type": "code",
      "metadata": {
        "id": "C-1VXE3_VH_0"
      },
      "source": [
        "offset = sequence_length\n",
        "\n",
        "def inverse_transform(y):\n",
        "  return target_scaler.inverse_transform(y.reshape(-1, 1))\n",
        "\n",
        "training_df = pd.DataFrame()\n",
        "training_df['date'] = resample_df['date'].iloc[offset:n_train + offset:1] \n",
        "training_predictions = bayesian_lstm.predict(X_train)\n",
        "training_df['log_energy_consumption'] = inverse_transform(training_predictions)\n",
        "training_df['source'] = 'Training Prediction'\n",
        "\n",
        "training_truth_df = pd.DataFrame()\n",
        "training_truth_df['date'] = training_df['date']\n",
        "training_truth_df['log_energy_consumption'] = resample_df['log_energy_consumption'].iloc[offset:n_train + offset:1] \n",
        "training_truth_df['source'] = 'True Values'\n",
        "\n",
        "testing_df = pd.DataFrame()\n",
        "testing_df['date'] = resample_df['date'].iloc[n_train + offset::1] \n",
        "testing_predictions = bayesian_lstm.predict(X_test)\n",
        "testing_df['log_energy_consumption'] = inverse_transform(testing_predictions)\n",
        "testing_df['source'] = 'Test Prediction'\n",
        "\n",
        "testing_truth_df = pd.DataFrame()\n",
        "testing_truth_df['date'] = testing_df['date']\n",
        "testing_truth_df['log_energy_consumption'] = resample_df['log_energy_consumption'].iloc[n_train + offset::1] \n",
        "testing_truth_df['source'] = 'True Values'\n",
        "\n",
        "evaluation = pd.concat([training_df, \n",
        "                        testing_df,\n",
        "                        training_truth_df,\n",
        "                        testing_truth_df\n",
        "                        ], axis=0)"
      ],
      "execution_count": 12,
      "outputs": []
    },
    {
      "cell_type": "code",
      "metadata": {
        "id": "uXQJwRO2FZio",
        "colab": {
          "base_uri": "https://localhost:8080/",
          "height": 542
        },
        "outputId": "1346bdbc-8aa5-4ef1-bbb0-18a31b27a77e"
      },
      "source": [
        "fig = px.line(evaluation.loc[evaluation['date'].between('2016-04-14', '2016-04-23')],\n",
        "                 x=\"date\",\n",
        "                 y=\"log_energy_consumption\",\n",
        "                 color=\"source\",\n",
        "                 title=\"Log of Appliance Energy Consumption in Wh vs Time\")\n",
        "fig.show()"
      ],
      "execution_count": 13,
      "outputs": [
        {
          "output_type": "display_data",
          "data": {
            "text/html": [
              "<html>\n",
              "<head><meta charset=\"utf-8\" /></head>\n",
              "<body>\n",
              "    <div>            <script src=\"https://cdnjs.cloudflare.com/ajax/libs/mathjax/2.7.5/MathJax.js?config=TeX-AMS-MML_SVG\"></script><script type=\"text/javascript\">if (window.MathJax) {MathJax.Hub.Config({SVG: {font: \"STIX-Web\"}});}</script>                <script type=\"text/javascript\">window.PlotlyConfig = {MathJaxConfig: 'local'};</script>\n",
              "        <script src=\"https://cdn.plot.ly/plotly-2.8.3.min.js\"></script>                <div id=\"1ff58201-98a3-4f61-998c-0dbd3458b306\" class=\"plotly-graph-div\" style=\"height:525px; width:100%;\"></div>            <script type=\"text/javascript\">                                    window.PLOTLYENV=window.PLOTLYENV || {};                                    if (document.getElementById(\"1ff58201-98a3-4f61-998c-0dbd3458b306\")) {                    Plotly.newPlot(                        \"1ff58201-98a3-4f61-998c-0dbd3458b306\",                        [{\"hovertemplate\":\"source=Training Prediction<br>date=%{x}<br>log_energy_consumption=%{y}<extra></extra>\",\"legendgroup\":\"Training Prediction\",\"line\":{\"color\":\"#636efa\",\"dash\":\"solid\"},\"marker\":{\"symbol\":\"circle\"},\"mode\":\"lines\",\"name\":\"Training Prediction\",\"orientation\":\"v\",\"showlegend\":true,\"x\":[\"2016-04-14T00:00:00\",\"2016-04-14T01:00:00\",\"2016-04-14T02:00:00\",\"2016-04-14T03:00:00\",\"2016-04-14T04:00:00\",\"2016-04-14T05:00:00\",\"2016-04-14T06:00:00\",\"2016-04-14T07:00:00\",\"2016-04-14T08:00:00\",\"2016-04-14T09:00:00\",\"2016-04-14T10:00:00\",\"2016-04-14T11:00:00\",\"2016-04-14T12:00:00\",\"2016-04-14T13:00:00\",\"2016-04-14T14:00:00\",\"2016-04-14T15:00:00\",\"2016-04-14T16:00:00\",\"2016-04-14T17:00:00\",\"2016-04-14T18:00:00\",\"2016-04-14T19:00:00\",\"2016-04-14T20:00:00\",\"2016-04-14T21:00:00\",\"2016-04-14T22:00:00\",\"2016-04-14T23:00:00\",\"2016-04-15T00:00:00\",\"2016-04-15T01:00:00\",\"2016-04-15T02:00:00\",\"2016-04-15T03:00:00\",\"2016-04-15T04:00:00\",\"2016-04-15T05:00:00\",\"2016-04-15T06:00:00\",\"2016-04-15T07:00:00\",\"2016-04-15T08:00:00\",\"2016-04-15T09:00:00\",\"2016-04-15T10:00:00\",\"2016-04-15T11:00:00\",\"2016-04-15T12:00:00\",\"2016-04-15T13:00:00\",\"2016-04-15T14:00:00\",\"2016-04-15T15:00:00\",\"2016-04-15T16:00:00\",\"2016-04-15T17:00:00\",\"2016-04-15T18:00:00\",\"2016-04-15T19:00:00\",\"2016-04-15T20:00:00\",\"2016-04-15T21:00:00\",\"2016-04-15T22:00:00\",\"2016-04-15T23:00:00\",\"2016-04-16T00:00:00\",\"2016-04-16T01:00:00\",\"2016-04-16T02:00:00\",\"2016-04-16T03:00:00\",\"2016-04-16T04:00:00\",\"2016-04-16T05:00:00\",\"2016-04-16T06:00:00\",\"2016-04-16T07:00:00\",\"2016-04-16T08:00:00\",\"2016-04-16T09:00:00\",\"2016-04-16T10:00:00\",\"2016-04-16T11:00:00\",\"2016-04-16T12:00:00\",\"2016-04-16T13:00:00\",\"2016-04-16T14:00:00\",\"2016-04-16T15:00:00\",\"2016-04-16T16:00:00\",\"2016-04-16T17:00:00\",\"2016-04-16T18:00:00\",\"2016-04-16T19:00:00\",\"2016-04-16T20:00:00\",\"2016-04-16T21:00:00\",\"2016-04-16T22:00:00\",\"2016-04-16T23:00:00\",\"2016-04-17T00:00:00\",\"2016-04-17T01:00:00\"],\"xaxis\":\"x\",\"y\":[3.9678871631622314,4.006768226623535,3.9097723960876465,4.029343128204346,4.18413782119751,3.95149302482605,4.180314064025879,4.475070476531982,4.316905498504639,4.284525394439697,4.422199249267578,4.518061637878418,4.343299388885498,4.389507293701172,4.377129554748535,4.335805416107178,4.396663665771484,6.100445747375488,5.471380710601807,4.8229522705078125,4.607241630554199,4.28223180770874,3.9288196563720703,3.9812707901000977,3.860440969467163,4.02705192565918,3.949687957763672,3.939785957336426,4.004794120788574,4.044460773468018,4.129154682159424,5.18572473526001,5.690557479858398,5.818240165710449,5.290212154388428,5.248701095581055,4.415058135986328,4.153960227966309,4.185022830963135,4.475197792053223,4.801026821136475,4.494413375854492,4.903646469116211,4.736690998077393,4.5935540199279785,4.694403171539307,4.043055057525635,4.065215587615967,3.963129758834839,3.7827086448669434,3.9402167797088623,3.865428924560547,3.8209967613220215,4.039824962615967,4.031740665435791,4.2080793380737305,4.386753559112549,4.940253734588623,5.412441730499268,5.70650053024292,4.60002326965332,5.177730083465576,4.864331245422363,4.5730462074279785,5.670323848724365,5.15574312210083,4.816995143890381,4.639354228973389,4.5467047691345215,4.07349157333374,4.134268283843994,4.022108554840088,3.936004400253296,3.898535966873169],\"yaxis\":\"y\",\"type\":\"scatter\"},{\"hovertemplate\":\"source=Test Prediction<br>date=%{x}<br>log_energy_consumption=%{y}<extra></extra>\",\"legendgroup\":\"Test Prediction\",\"line\":{\"color\":\"#EF553B\",\"dash\":\"solid\"},\"marker\":{\"symbol\":\"circle\"},\"mode\":\"lines\",\"name\":\"Test Prediction\",\"orientation\":\"v\",\"showlegend\":true,\"x\":[\"2016-04-17T02:00:00\",\"2016-04-17T03:00:00\",\"2016-04-17T04:00:00\",\"2016-04-17T05:00:00\",\"2016-04-17T06:00:00\",\"2016-04-17T07:00:00\",\"2016-04-17T08:00:00\",\"2016-04-17T09:00:00\",\"2016-04-17T10:00:00\",\"2016-04-17T11:00:00\",\"2016-04-17T12:00:00\",\"2016-04-17T13:00:00\",\"2016-04-17T14:00:00\",\"2016-04-17T15:00:00\",\"2016-04-17T16:00:00\",\"2016-04-17T17:00:00\",\"2016-04-17T18:00:00\",\"2016-04-17T19:00:00\",\"2016-04-17T20:00:00\",\"2016-04-17T21:00:00\",\"2016-04-17T22:00:00\",\"2016-04-17T23:00:00\",\"2016-04-18T00:00:00\",\"2016-04-18T01:00:00\",\"2016-04-18T02:00:00\",\"2016-04-18T03:00:00\",\"2016-04-18T04:00:00\",\"2016-04-18T05:00:00\",\"2016-04-18T06:00:00\",\"2016-04-18T07:00:00\",\"2016-04-18T08:00:00\",\"2016-04-18T09:00:00\",\"2016-04-18T10:00:00\",\"2016-04-18T11:00:00\",\"2016-04-18T12:00:00\",\"2016-04-18T13:00:00\",\"2016-04-18T14:00:00\",\"2016-04-18T15:00:00\",\"2016-04-18T16:00:00\",\"2016-04-18T17:00:00\",\"2016-04-18T18:00:00\",\"2016-04-18T19:00:00\",\"2016-04-18T20:00:00\",\"2016-04-18T21:00:00\",\"2016-04-18T22:00:00\",\"2016-04-18T23:00:00\",\"2016-04-19T00:00:00\",\"2016-04-19T01:00:00\",\"2016-04-19T02:00:00\",\"2016-04-19T03:00:00\",\"2016-04-19T04:00:00\",\"2016-04-19T05:00:00\",\"2016-04-19T06:00:00\",\"2016-04-19T07:00:00\",\"2016-04-19T08:00:00\",\"2016-04-19T09:00:00\",\"2016-04-19T10:00:00\",\"2016-04-19T11:00:00\",\"2016-04-19T12:00:00\",\"2016-04-19T13:00:00\",\"2016-04-19T14:00:00\",\"2016-04-19T15:00:00\",\"2016-04-19T16:00:00\",\"2016-04-19T17:00:00\",\"2016-04-19T18:00:00\",\"2016-04-19T19:00:00\",\"2016-04-19T20:00:00\",\"2016-04-19T21:00:00\",\"2016-04-19T22:00:00\",\"2016-04-19T23:00:00\",\"2016-04-20T00:00:00\",\"2016-04-20T01:00:00\",\"2016-04-20T02:00:00\",\"2016-04-20T03:00:00\",\"2016-04-20T04:00:00\",\"2016-04-20T05:00:00\",\"2016-04-20T06:00:00\",\"2016-04-20T07:00:00\",\"2016-04-20T08:00:00\",\"2016-04-20T09:00:00\",\"2016-04-20T10:00:00\",\"2016-04-20T11:00:00\",\"2016-04-20T12:00:00\",\"2016-04-20T13:00:00\",\"2016-04-20T14:00:00\",\"2016-04-20T15:00:00\",\"2016-04-20T16:00:00\",\"2016-04-20T17:00:00\",\"2016-04-20T18:00:00\",\"2016-04-20T19:00:00\",\"2016-04-20T20:00:00\",\"2016-04-20T21:00:00\",\"2016-04-20T22:00:00\",\"2016-04-20T23:00:00\",\"2016-04-21T00:00:00\",\"2016-04-21T01:00:00\",\"2016-04-21T02:00:00\",\"2016-04-21T03:00:00\",\"2016-04-21T04:00:00\",\"2016-04-21T05:00:00\",\"2016-04-21T06:00:00\",\"2016-04-21T07:00:00\",\"2016-04-21T08:00:00\",\"2016-04-21T09:00:00\",\"2016-04-21T10:00:00\",\"2016-04-21T11:00:00\",\"2016-04-21T12:00:00\",\"2016-04-21T13:00:00\",\"2016-04-21T14:00:00\",\"2016-04-21T15:00:00\",\"2016-04-21T16:00:00\",\"2016-04-21T17:00:00\",\"2016-04-21T18:00:00\",\"2016-04-21T19:00:00\",\"2016-04-21T20:00:00\",\"2016-04-21T21:00:00\",\"2016-04-21T22:00:00\",\"2016-04-21T23:00:00\",\"2016-04-22T00:00:00\",\"2016-04-22T01:00:00\",\"2016-04-22T02:00:00\",\"2016-04-22T03:00:00\",\"2016-04-22T04:00:00\",\"2016-04-22T05:00:00\",\"2016-04-22T06:00:00\",\"2016-04-22T07:00:00\",\"2016-04-22T08:00:00\",\"2016-04-22T09:00:00\",\"2016-04-22T10:00:00\",\"2016-04-22T11:00:00\",\"2016-04-22T12:00:00\",\"2016-04-22T13:00:00\",\"2016-04-22T14:00:00\",\"2016-04-22T15:00:00\",\"2016-04-22T16:00:00\",\"2016-04-22T17:00:00\",\"2016-04-22T18:00:00\",\"2016-04-22T19:00:00\",\"2016-04-22T20:00:00\",\"2016-04-22T21:00:00\",\"2016-04-22T22:00:00\",\"2016-04-22T23:00:00\",\"2016-04-23T00:00:00\"],\"xaxis\":\"x\",\"y\":[3.910799503326416,3.9017300605773926,3.8641059398651123,3.915353298187256,3.911898136138916,4.182736873626709,4.954266548156738,5.069399356842041,5.362586975097656,5.115264892578125,4.572876930236816,4.695600509643555,4.296910762786865,4.271003723144531,4.895212650299072,5.569360733032227,5.152704238891602,4.636439800262451,4.48190450668335,4.175374984741211,4.01151704788208,4.039083957672119,4.0028839111328125,3.981811285018921,4.024497985839844,4.1188507080078125,4.155841827392578,4.030461311340332,4.014641284942627,4.058082103729248,3.9959707260131836,4.139995098114014,4.087539196014404,4.2163004875183105,4.251679420471191,4.07262659072876,4.208887577056885,3.9835011959075928,3.9569854736328125,5.348423957824707,4.786933422088623,4.671110153198242,4.545903205871582,4.231844425201416,4.0179243087768555,3.822664499282837,3.987461566925049,3.91556978225708,3.972780704498291,3.8891117572784424,3.776885509490967,4.493861675262451,4.64015007019043,5.023587226867676,4.306468486785889,4.158891677856445,4.230179309844971,3.9439234733581543,3.617724657058716,3.8607561588287354,3.6742265224456787,4.568488597869873,4.5394487380981445,4.824024677276611,5.345339775085449,5.902293682098389,4.89910888671875,4.2197089195251465,4.170746803283691,4.049550533294678,3.965808391571045,4.0284647941589355,3.958979845046997,3.950690984725952,3.9163029193878174,3.853163003921509,3.9805569648742676,4.563584327697754,4.586939811706543,4.1567277908325195,4.133728504180908,4.266510009765625,4.02748966217041,4.186800003051758,4.514147758483887,5.074429988861084,4.760619640350342,4.6064348220825195,4.5631818771362305,5.83558988571167,4.388857841491699,4.488466262817383,4.2199530601501465,4.038872718811035,4.016054153442383,4.074241638183594,3.876887321472168,3.873709201812744,3.815390110015869,3.9726758003234863,3.815011739730835,4.428584098815918,4.032533645629883,3.8448598384857178,3.976142168045044,4.037415981292725,4.042125701904297,4.007881164550781,4.4530720710754395,4.98455286026001,4.215629577636719,4.567862510681152,4.881546497344971,5.354576587677002,4.649359226226807,4.318993091583252,3.8768012523651123,3.902660369873047,3.9027838706970215,3.8696930408477783,3.961054801940918,3.976206064224243,4.190032482147217,4.503044128417969,4.349203109741211,4.432980060577393,5.589795112609863,4.812836170196533,5.009798049926758,4.872881889343262,4.5995917320251465,5.555935859680176,5.531548023223877,4.368503570556641,5.401303768157959,4.744761943817139,4.905979633331299,4.69739294052124,4.4871673583984375,4.0809407234191895,3.993795871734619,3.9703924655914307,3.7853236198425293],\"yaxis\":\"y\",\"type\":\"scatter\"},{\"hovertemplate\":\"source=True Values<br>date=%{x}<br>log_energy_consumption=%{y}<extra></extra>\",\"legendgroup\":\"True Values\",\"line\":{\"color\":\"#00cc96\",\"dash\":\"solid\"},\"marker\":{\"symbol\":\"circle\"},\"mode\":\"lines\",\"name\":\"True Values\",\"orientation\":\"v\",\"showlegend\":true,\"x\":[\"2016-04-14T00:00:00\",\"2016-04-14T01:00:00\",\"2016-04-14T02:00:00\",\"2016-04-14T03:00:00\",\"2016-04-14T04:00:00\",\"2016-04-14T05:00:00\",\"2016-04-14T06:00:00\",\"2016-04-14T07:00:00\",\"2016-04-14T08:00:00\",\"2016-04-14T09:00:00\",\"2016-04-14T10:00:00\",\"2016-04-14T11:00:00\",\"2016-04-14T12:00:00\",\"2016-04-14T13:00:00\",\"2016-04-14T14:00:00\",\"2016-04-14T15:00:00\",\"2016-04-14T16:00:00\",\"2016-04-14T17:00:00\",\"2016-04-14T18:00:00\",\"2016-04-14T19:00:00\",\"2016-04-14T20:00:00\",\"2016-04-14T21:00:00\",\"2016-04-14T22:00:00\",\"2016-04-14T23:00:00\",\"2016-04-15T00:00:00\",\"2016-04-15T01:00:00\",\"2016-04-15T02:00:00\",\"2016-04-15T03:00:00\",\"2016-04-15T04:00:00\",\"2016-04-15T05:00:00\",\"2016-04-15T06:00:00\",\"2016-04-15T07:00:00\",\"2016-04-15T08:00:00\",\"2016-04-15T09:00:00\",\"2016-04-15T10:00:00\",\"2016-04-15T11:00:00\",\"2016-04-15T12:00:00\",\"2016-04-15T13:00:00\",\"2016-04-15T14:00:00\",\"2016-04-15T15:00:00\",\"2016-04-15T16:00:00\",\"2016-04-15T17:00:00\",\"2016-04-15T18:00:00\",\"2016-04-15T19:00:00\",\"2016-04-15T20:00:00\",\"2016-04-15T21:00:00\",\"2016-04-15T22:00:00\",\"2016-04-15T23:00:00\",\"2016-04-16T00:00:00\",\"2016-04-16T01:00:00\",\"2016-04-16T02:00:00\",\"2016-04-16T03:00:00\",\"2016-04-16T04:00:00\",\"2016-04-16T05:00:00\",\"2016-04-16T06:00:00\",\"2016-04-16T07:00:00\",\"2016-04-16T08:00:00\",\"2016-04-16T09:00:00\",\"2016-04-16T10:00:00\",\"2016-04-16T11:00:00\",\"2016-04-16T12:00:00\",\"2016-04-16T13:00:00\",\"2016-04-16T14:00:00\",\"2016-04-16T15:00:00\",\"2016-04-16T16:00:00\",\"2016-04-16T17:00:00\",\"2016-04-16T18:00:00\",\"2016-04-16T19:00:00\",\"2016-04-16T20:00:00\",\"2016-04-16T21:00:00\",\"2016-04-16T22:00:00\",\"2016-04-16T23:00:00\",\"2016-04-17T00:00:00\",\"2016-04-17T01:00:00\",\"2016-04-17T02:00:00\",\"2016-04-17T03:00:00\",\"2016-04-17T04:00:00\",\"2016-04-17T05:00:00\",\"2016-04-17T06:00:00\",\"2016-04-17T07:00:00\",\"2016-04-17T08:00:00\",\"2016-04-17T09:00:00\",\"2016-04-17T10:00:00\",\"2016-04-17T11:00:00\",\"2016-04-17T12:00:00\",\"2016-04-17T13:00:00\",\"2016-04-17T14:00:00\",\"2016-04-17T15:00:00\",\"2016-04-17T16:00:00\",\"2016-04-17T17:00:00\",\"2016-04-17T18:00:00\",\"2016-04-17T19:00:00\",\"2016-04-17T20:00:00\",\"2016-04-17T21:00:00\",\"2016-04-17T22:00:00\",\"2016-04-17T23:00:00\",\"2016-04-18T00:00:00\",\"2016-04-18T01:00:00\",\"2016-04-18T02:00:00\",\"2016-04-18T03:00:00\",\"2016-04-18T04:00:00\",\"2016-04-18T05:00:00\",\"2016-04-18T06:00:00\",\"2016-04-18T07:00:00\",\"2016-04-18T08:00:00\",\"2016-04-18T09:00:00\",\"2016-04-18T10:00:00\",\"2016-04-18T11:00:00\",\"2016-04-18T12:00:00\",\"2016-04-18T13:00:00\",\"2016-04-18T14:00:00\",\"2016-04-18T15:00:00\",\"2016-04-18T16:00:00\",\"2016-04-18T17:00:00\",\"2016-04-18T18:00:00\",\"2016-04-18T19:00:00\",\"2016-04-18T20:00:00\",\"2016-04-18T21:00:00\",\"2016-04-18T22:00:00\",\"2016-04-18T23:00:00\",\"2016-04-19T00:00:00\",\"2016-04-19T01:00:00\",\"2016-04-19T02:00:00\",\"2016-04-19T03:00:00\",\"2016-04-19T04:00:00\",\"2016-04-19T05:00:00\",\"2016-04-19T06:00:00\",\"2016-04-19T07:00:00\",\"2016-04-19T08:00:00\",\"2016-04-19T09:00:00\",\"2016-04-19T10:00:00\",\"2016-04-19T11:00:00\",\"2016-04-19T12:00:00\",\"2016-04-19T13:00:00\",\"2016-04-19T14:00:00\",\"2016-04-19T15:00:00\",\"2016-04-19T16:00:00\",\"2016-04-19T17:00:00\",\"2016-04-19T18:00:00\",\"2016-04-19T19:00:00\",\"2016-04-19T20:00:00\",\"2016-04-19T21:00:00\",\"2016-04-19T22:00:00\",\"2016-04-19T23:00:00\",\"2016-04-20T00:00:00\",\"2016-04-20T01:00:00\",\"2016-04-20T02:00:00\",\"2016-04-20T03:00:00\",\"2016-04-20T04:00:00\",\"2016-04-20T05:00:00\",\"2016-04-20T06:00:00\",\"2016-04-20T07:00:00\",\"2016-04-20T08:00:00\",\"2016-04-20T09:00:00\",\"2016-04-20T10:00:00\",\"2016-04-20T11:00:00\",\"2016-04-20T12:00:00\",\"2016-04-20T13:00:00\",\"2016-04-20T14:00:00\",\"2016-04-20T15:00:00\",\"2016-04-20T16:00:00\",\"2016-04-20T17:00:00\",\"2016-04-20T18:00:00\",\"2016-04-20T19:00:00\",\"2016-04-20T20:00:00\",\"2016-04-20T21:00:00\",\"2016-04-20T22:00:00\",\"2016-04-20T23:00:00\",\"2016-04-21T00:00:00\",\"2016-04-21T01:00:00\",\"2016-04-21T02:00:00\",\"2016-04-21T03:00:00\",\"2016-04-21T04:00:00\",\"2016-04-21T05:00:00\",\"2016-04-21T06:00:00\",\"2016-04-21T07:00:00\",\"2016-04-21T08:00:00\",\"2016-04-21T09:00:00\",\"2016-04-21T10:00:00\",\"2016-04-21T11:00:00\",\"2016-04-21T12:00:00\",\"2016-04-21T13:00:00\",\"2016-04-21T14:00:00\",\"2016-04-21T15:00:00\",\"2016-04-21T16:00:00\",\"2016-04-21T17:00:00\",\"2016-04-21T18:00:00\",\"2016-04-21T19:00:00\",\"2016-04-21T20:00:00\",\"2016-04-21T21:00:00\",\"2016-04-21T22:00:00\",\"2016-04-21T23:00:00\",\"2016-04-22T00:00:00\",\"2016-04-22T01:00:00\",\"2016-04-22T02:00:00\",\"2016-04-22T03:00:00\",\"2016-04-22T04:00:00\",\"2016-04-22T05:00:00\",\"2016-04-22T06:00:00\",\"2016-04-22T07:00:00\",\"2016-04-22T08:00:00\",\"2016-04-22T09:00:00\",\"2016-04-22T10:00:00\",\"2016-04-22T11:00:00\",\"2016-04-22T12:00:00\",\"2016-04-22T13:00:00\",\"2016-04-22T14:00:00\",\"2016-04-22T15:00:00\",\"2016-04-22T16:00:00\",\"2016-04-22T17:00:00\",\"2016-04-22T18:00:00\",\"2016-04-22T19:00:00\",\"2016-04-22T20:00:00\",\"2016-04-22T21:00:00\",\"2016-04-22T22:00:00\",\"2016-04-22T23:00:00\",\"2016-04-23T00:00:00\"],\"xaxis\":\"x\",\"y\":[4.007333185232471,3.9765615265657175,3.9765615265657175,3.9765615265657175,3.9765615265657175,3.912023005428146,4.148411783492376,4.360973225476049,4.382026634673881,4.174387269895637,4.360973225476049,4.402645921876617,4.121743536410215,3.9765615265657175,4.248495242049359,4.518158808998462,4.402645921876617,5.646624060816253,5.393627546352362,5.272999558563747,4.339467020255086,4.037186148382152,3.912023005428146,3.9765615265657175,3.9448128282511368,3.9448128282511368,4.037186148382152,3.8781214537524646,4.007333185232471,3.9765615265657175,5.917997395226109,5.501258210544727,5.794029352503979,5.501258210544727,5.862683757242057,5.12594614060725,4.339467020255086,4.148411783492376,4.272025739459553,4.199705077879927,4.422848629194137,4.382026634673881,5.3471075307174685,4.814890716970161,4.700480365792417,4.637960008811082,4.402645921876617,4.037186148382152,3.9765615265657175,4.007333185232471,3.912023005428146,4.037186148382152,3.8781214537524646,3.9765615265657175,3.9765615265657175,4.174387269895637,4.637960008811082,4.953476880256307,5.675611597689505,5.681309618804143,4.685212893661628,5.452468046375295,5.487559366186565,4.7303333289420975,6.0905554497522125,5.528105460580915,4.917544871030244,4.7303333289420975,4.621699487939302,4.553876891600541,4.148411783492376,4.007333185232471,3.9448128282511368,4.007333185232471,3.8781214537524646,4.0661736852554045,3.8781214537524646,3.9448128282511368,3.912023005428146,4.148411783492376,4.941642422609304,4.637960008811082,6.09807428216624,4.75932086581535,4.965172920019499,4.272025739459553,4.248495242049359,4.553876891600541,5.12594614060725,5.473670254025898,4.8012850649143815,4.814890716970161,4.499809670330265,4.360973225476049,3.9765615265657175,4.037186148382152,4.037186148382152,4.199705077879927,3.9765615265657175,3.8430301339411947,3.8430301339411947,3.9765615265657175,4.007333185232471,3.912023005428146,3.9765615265657175,3.912023005428146,3.9448128282511368,4.402645921876617,3.8781214537524646,3.9765615265657175,3.6888794541139363,4.007333185232471,4.248495242049359,5.573420656792957,4.880273476233012,4.75932086581535,4.8283137373023015,4.121743536410215,3.7297014486341915,3.9448128282511368,3.9765615265657175,3.6463198396951406,3.9765615265657175,3.9448128282511368,3.912023005428146,4.715518243156957,4.360973225476049,4.892852258439873,3.8781214537524646,3.9765615265657175,3.6463198396951406,3.9448128282511368,3.9448128282511368,3.8066624897703196,3.8781214537524646,3.912023005428146,3.9448128282511368,5.51477192971145,4.854631045619675,4.74493212836325,4.4620693423474185,4.0943445622221,3.9448128282511368,3.6888794541139363,4.007333185232471,3.912023005428146,3.8066624897703196,3.8781214537524646,3.9448128282511368,3.912023005428146,4.199705077879927,4.037186148382152,3.9765615265657175,4.148411783492376,4.174387269895637,3.8066624897703196,3.8430301339411947,3.9765615265657175,5.155216522907363,4.360973225476049,4.272025739459553,5.19295685089021,5.652489180268651,4.787491742782046,4.685212893661628,4.295015257684252,3.9765615265657175,3.7297014486341915,3.9448128282511368,3.9765615265657175,3.8781214537524646,3.6888794541139363,3.9765615265657175,4.2243976904702984,4.121743536410215,3.7689221617874726,3.9448128282511368,3.9448128282511368,3.9448128282511368,4.007333185232471,3.912023005428146,4.121743536410215,4.121743536410215,4.148411783492376,4.4620693423474185,5.306616169362732,5.19295685089021,4.854631045619675,5.1647859739235145,4.2243976904702984,4.248495242049359,4.2243976904702984,4.121743536410215,4.121743536410215,4.2243976904702984,4.199705077879927,4.199705077879927,4.248495242049359,4.199705077879927,5.145554611995626,5.12594614060725,5.9445476273202305,5.9872891756975015,5.579729825986222,5.84354441703136,5.634789603169249,4.481117537318112,5.622813412122534,5.675611597689505,5.9445476273202305,5.264415814872355,4.653960350157523,4.653960350157523,4.272025739459553,4.007333185232471,4.007333185232471,4.037186148382152],\"yaxis\":\"y\",\"type\":\"scatter\"}],                        {\"template\":{\"data\":{\"bar\":[{\"error_x\":{\"color\":\"#2a3f5f\"},\"error_y\":{\"color\":\"#2a3f5f\"},\"marker\":{\"line\":{\"color\":\"#E5ECF6\",\"width\":0.5},\"pattern\":{\"fillmode\":\"overlay\",\"size\":10,\"solidity\":0.2}},\"type\":\"bar\"}],\"barpolar\":[{\"marker\":{\"line\":{\"color\":\"#E5ECF6\",\"width\":0.5},\"pattern\":{\"fillmode\":\"overlay\",\"size\":10,\"solidity\":0.2}},\"type\":\"barpolar\"}],\"carpet\":[{\"aaxis\":{\"endlinecolor\":\"#2a3f5f\",\"gridcolor\":\"white\",\"linecolor\":\"white\",\"minorgridcolor\":\"white\",\"startlinecolor\":\"#2a3f5f\"},\"baxis\":{\"endlinecolor\":\"#2a3f5f\",\"gridcolor\":\"white\",\"linecolor\":\"white\",\"minorgridcolor\":\"white\",\"startlinecolor\":\"#2a3f5f\"},\"type\":\"carpet\"}],\"choropleth\":[{\"colorbar\":{\"outlinewidth\":0,\"ticks\":\"\"},\"type\":\"choropleth\"}],\"contour\":[{\"colorbar\":{\"outlinewidth\":0,\"ticks\":\"\"},\"colorscale\":[[0.0,\"#0d0887\"],[0.1111111111111111,\"#46039f\"],[0.2222222222222222,\"#7201a8\"],[0.3333333333333333,\"#9c179e\"],[0.4444444444444444,\"#bd3786\"],[0.5555555555555556,\"#d8576b\"],[0.6666666666666666,\"#ed7953\"],[0.7777777777777778,\"#fb9f3a\"],[0.8888888888888888,\"#fdca26\"],[1.0,\"#f0f921\"]],\"type\":\"contour\"}],\"contourcarpet\":[{\"colorbar\":{\"outlinewidth\":0,\"ticks\":\"\"},\"type\":\"contourcarpet\"}],\"heatmap\":[{\"colorbar\":{\"outlinewidth\":0,\"ticks\":\"\"},\"colorscale\":[[0.0,\"#0d0887\"],[0.1111111111111111,\"#46039f\"],[0.2222222222222222,\"#7201a8\"],[0.3333333333333333,\"#9c179e\"],[0.4444444444444444,\"#bd3786\"],[0.5555555555555556,\"#d8576b\"],[0.6666666666666666,\"#ed7953\"],[0.7777777777777778,\"#fb9f3a\"],[0.8888888888888888,\"#fdca26\"],[1.0,\"#f0f921\"]],\"type\":\"heatmap\"}],\"heatmapgl\":[{\"colorbar\":{\"outlinewidth\":0,\"ticks\":\"\"},\"colorscale\":[[0.0,\"#0d0887\"],[0.1111111111111111,\"#46039f\"],[0.2222222222222222,\"#7201a8\"],[0.3333333333333333,\"#9c179e\"],[0.4444444444444444,\"#bd3786\"],[0.5555555555555556,\"#d8576b\"],[0.6666666666666666,\"#ed7953\"],[0.7777777777777778,\"#fb9f3a\"],[0.8888888888888888,\"#fdca26\"],[1.0,\"#f0f921\"]],\"type\":\"heatmapgl\"}],\"histogram\":[{\"marker\":{\"pattern\":{\"fillmode\":\"overlay\",\"size\":10,\"solidity\":0.2}},\"type\":\"histogram\"}],\"histogram2d\":[{\"colorbar\":{\"outlinewidth\":0,\"ticks\":\"\"},\"colorscale\":[[0.0,\"#0d0887\"],[0.1111111111111111,\"#46039f\"],[0.2222222222222222,\"#7201a8\"],[0.3333333333333333,\"#9c179e\"],[0.4444444444444444,\"#bd3786\"],[0.5555555555555556,\"#d8576b\"],[0.6666666666666666,\"#ed7953\"],[0.7777777777777778,\"#fb9f3a\"],[0.8888888888888888,\"#fdca26\"],[1.0,\"#f0f921\"]],\"type\":\"histogram2d\"}],\"histogram2dcontour\":[{\"colorbar\":{\"outlinewidth\":0,\"ticks\":\"\"},\"colorscale\":[[0.0,\"#0d0887\"],[0.1111111111111111,\"#46039f\"],[0.2222222222222222,\"#7201a8\"],[0.3333333333333333,\"#9c179e\"],[0.4444444444444444,\"#bd3786\"],[0.5555555555555556,\"#d8576b\"],[0.6666666666666666,\"#ed7953\"],[0.7777777777777778,\"#fb9f3a\"],[0.8888888888888888,\"#fdca26\"],[1.0,\"#f0f921\"]],\"type\":\"histogram2dcontour\"}],\"mesh3d\":[{\"colorbar\":{\"outlinewidth\":0,\"ticks\":\"\"},\"type\":\"mesh3d\"}],\"parcoords\":[{\"line\":{\"colorbar\":{\"outlinewidth\":0,\"ticks\":\"\"}},\"type\":\"parcoords\"}],\"pie\":[{\"automargin\":true,\"type\":\"pie\"}],\"scatter\":[{\"marker\":{\"colorbar\":{\"outlinewidth\":0,\"ticks\":\"\"}},\"type\":\"scatter\"}],\"scatter3d\":[{\"line\":{\"colorbar\":{\"outlinewidth\":0,\"ticks\":\"\"}},\"marker\":{\"colorbar\":{\"outlinewidth\":0,\"ticks\":\"\"}},\"type\":\"scatter3d\"}],\"scattercarpet\":[{\"marker\":{\"colorbar\":{\"outlinewidth\":0,\"ticks\":\"\"}},\"type\":\"scattercarpet\"}],\"scattergeo\":[{\"marker\":{\"colorbar\":{\"outlinewidth\":0,\"ticks\":\"\"}},\"type\":\"scattergeo\"}],\"scattergl\":[{\"marker\":{\"colorbar\":{\"outlinewidth\":0,\"ticks\":\"\"}},\"type\":\"scattergl\"}],\"scattermapbox\":[{\"marker\":{\"colorbar\":{\"outlinewidth\":0,\"ticks\":\"\"}},\"type\":\"scattermapbox\"}],\"scatterpolar\":[{\"marker\":{\"colorbar\":{\"outlinewidth\":0,\"ticks\":\"\"}},\"type\":\"scatterpolar\"}],\"scatterpolargl\":[{\"marker\":{\"colorbar\":{\"outlinewidth\":0,\"ticks\":\"\"}},\"type\":\"scatterpolargl\"}],\"scatterternary\":[{\"marker\":{\"colorbar\":{\"outlinewidth\":0,\"ticks\":\"\"}},\"type\":\"scatterternary\"}],\"surface\":[{\"colorbar\":{\"outlinewidth\":0,\"ticks\":\"\"},\"colorscale\":[[0.0,\"#0d0887\"],[0.1111111111111111,\"#46039f\"],[0.2222222222222222,\"#7201a8\"],[0.3333333333333333,\"#9c179e\"],[0.4444444444444444,\"#bd3786\"],[0.5555555555555556,\"#d8576b\"],[0.6666666666666666,\"#ed7953\"],[0.7777777777777778,\"#fb9f3a\"],[0.8888888888888888,\"#fdca26\"],[1.0,\"#f0f921\"]],\"type\":\"surface\"}],\"table\":[{\"cells\":{\"fill\":{\"color\":\"#EBF0F8\"},\"line\":{\"color\":\"white\"}},\"header\":{\"fill\":{\"color\":\"#C8D4E3\"},\"line\":{\"color\":\"white\"}},\"type\":\"table\"}]},\"layout\":{\"annotationdefaults\":{\"arrowcolor\":\"#2a3f5f\",\"arrowhead\":0,\"arrowwidth\":1},\"autotypenumbers\":\"strict\",\"coloraxis\":{\"colorbar\":{\"outlinewidth\":0,\"ticks\":\"\"}},\"colorscale\":{\"diverging\":[[0,\"#8e0152\"],[0.1,\"#c51b7d\"],[0.2,\"#de77ae\"],[0.3,\"#f1b6da\"],[0.4,\"#fde0ef\"],[0.5,\"#f7f7f7\"],[0.6,\"#e6f5d0\"],[0.7,\"#b8e186\"],[0.8,\"#7fbc41\"],[0.9,\"#4d9221\"],[1,\"#276419\"]],\"sequential\":[[0.0,\"#0d0887\"],[0.1111111111111111,\"#46039f\"],[0.2222222222222222,\"#7201a8\"],[0.3333333333333333,\"#9c179e\"],[0.4444444444444444,\"#bd3786\"],[0.5555555555555556,\"#d8576b\"],[0.6666666666666666,\"#ed7953\"],[0.7777777777777778,\"#fb9f3a\"],[0.8888888888888888,\"#fdca26\"],[1.0,\"#f0f921\"]],\"sequentialminus\":[[0.0,\"#0d0887\"],[0.1111111111111111,\"#46039f\"],[0.2222222222222222,\"#7201a8\"],[0.3333333333333333,\"#9c179e\"],[0.4444444444444444,\"#bd3786\"],[0.5555555555555556,\"#d8576b\"],[0.6666666666666666,\"#ed7953\"],[0.7777777777777778,\"#fb9f3a\"],[0.8888888888888888,\"#fdca26\"],[1.0,\"#f0f921\"]]},\"colorway\":[\"#636efa\",\"#EF553B\",\"#00cc96\",\"#ab63fa\",\"#FFA15A\",\"#19d3f3\",\"#FF6692\",\"#B6E880\",\"#FF97FF\",\"#FECB52\"],\"font\":{\"color\":\"#2a3f5f\"},\"geo\":{\"bgcolor\":\"white\",\"lakecolor\":\"white\",\"landcolor\":\"#E5ECF6\",\"showlakes\":true,\"showland\":true,\"subunitcolor\":\"white\"},\"hoverlabel\":{\"align\":\"left\"},\"hovermode\":\"closest\",\"mapbox\":{\"style\":\"light\"},\"paper_bgcolor\":\"white\",\"plot_bgcolor\":\"#E5ECF6\",\"polar\":{\"angularaxis\":{\"gridcolor\":\"white\",\"linecolor\":\"white\",\"ticks\":\"\"},\"bgcolor\":\"#E5ECF6\",\"radialaxis\":{\"gridcolor\":\"white\",\"linecolor\":\"white\",\"ticks\":\"\"}},\"scene\":{\"xaxis\":{\"backgroundcolor\":\"#E5ECF6\",\"gridcolor\":\"white\",\"gridwidth\":2,\"linecolor\":\"white\",\"showbackground\":true,\"ticks\":\"\",\"zerolinecolor\":\"white\"},\"yaxis\":{\"backgroundcolor\":\"#E5ECF6\",\"gridcolor\":\"white\",\"gridwidth\":2,\"linecolor\":\"white\",\"showbackground\":true,\"ticks\":\"\",\"zerolinecolor\":\"white\"},\"zaxis\":{\"backgroundcolor\":\"#E5ECF6\",\"gridcolor\":\"white\",\"gridwidth\":2,\"linecolor\":\"white\",\"showbackground\":true,\"ticks\":\"\",\"zerolinecolor\":\"white\"}},\"shapedefaults\":{\"line\":{\"color\":\"#2a3f5f\"}},\"ternary\":{\"aaxis\":{\"gridcolor\":\"white\",\"linecolor\":\"white\",\"ticks\":\"\"},\"baxis\":{\"gridcolor\":\"white\",\"linecolor\":\"white\",\"ticks\":\"\"},\"bgcolor\":\"#E5ECF6\",\"caxis\":{\"gridcolor\":\"white\",\"linecolor\":\"white\",\"ticks\":\"\"}},\"title\":{\"x\":0.05},\"xaxis\":{\"automargin\":true,\"gridcolor\":\"white\",\"linecolor\":\"white\",\"ticks\":\"\",\"title\":{\"standoff\":15},\"zerolinecolor\":\"white\",\"zerolinewidth\":2},\"yaxis\":{\"automargin\":true,\"gridcolor\":\"white\",\"linecolor\":\"white\",\"ticks\":\"\",\"title\":{\"standoff\":15},\"zerolinecolor\":\"white\",\"zerolinewidth\":2}}},\"xaxis\":{\"anchor\":\"y\",\"domain\":[0.0,1.0],\"title\":{\"text\":\"date\"}},\"yaxis\":{\"anchor\":\"x\",\"domain\":[0.0,1.0],\"title\":{\"text\":\"log_energy_consumption\"}},\"legend\":{\"title\":{\"text\":\"source\"},\"tracegroupgap\":0},\"title\":{\"text\":\"Log of Appliance Energy Consumption in Wh vs Time\"}},                        {\"responsive\": true}                    ).then(function(){\n",
              "                            \n",
              "var gd = document.getElementById('1ff58201-98a3-4f61-998c-0dbd3458b306');\n",
              "var x = new MutationObserver(function (mutations, observer) {{\n",
              "        var display = window.getComputedStyle(gd).display;\n",
              "        if (!display || display === 'none') {{\n",
              "            console.log([gd, 'removed!']);\n",
              "            Plotly.purge(gd);\n",
              "            observer.disconnect();\n",
              "        }}\n",
              "}});\n",
              "\n",
              "// Listen for the removal of the full notebook cells\n",
              "var notebookContainer = gd.closest('#notebook-container');\n",
              "if (notebookContainer) {{\n",
              "    x.observe(notebookContainer, {childList: true});\n",
              "}}\n",
              "\n",
              "// Listen for the clearing of the current output cell\n",
              "var outputEl = gd.closest('.output');\n",
              "if (outputEl) {{\n",
              "    x.observe(outputEl, {childList: true});\n",
              "}}\n",
              "\n",
              "                        })                };                            </script>        </div>\n",
              "</body>\n",
              "</html>"
            ]
          },
          "metadata": {}
        }
      ]
    },
    {
      "cell_type": "markdown",
      "metadata": {
        "id": "Jrwiy646yq7t"
      },
      "source": [
        "# Uncertainty Quantification"
      ]
    },
    {
      "cell_type": "markdown",
      "metadata": {
        "id": "8FEzMrU147zx"
      },
      "source": [
        "The fact that stochastic dropouts are applied after each LSTM layer in the Bayesian LSTM enables users to interpret the model outputs as random samples from the posterior distribution of the target variable. \n",
        "\n",
        "This implies that by running multiple experiments/predictions, can approximate  parameters of the posterioir distribution, namely the mean and the variance, in order to create confidence intervals for each prediction.\n",
        "\n",
        "In this example, we construct 99% confidence intervals that are three standard deviations away from the approximate mean of each prediction."
      ]
    },
    {
      "cell_type": "code",
      "metadata": {
        "id": "Jb4xyVW6DVUV",
        "outputId": "48e96c30-a6e3-45c6-af88-d7e24ca51ec1",
        "colab": {
          "base_uri": "https://localhost:8080/"
        }
      },
      "source": [
        "n_experiments = 100\n",
        "\n",
        "test_uncertainty_df = pd.DataFrame()\n",
        "test_uncertainty_df['date'] = testing_df['date']\n",
        "\n",
        "for i in range(n_experiments):\n",
        "  experiment_predictions = bayesian_lstm.predict(X_test)\n",
        "  test_uncertainty_df['log_energy_consumption_{}'.format(i)] = inverse_transform(experiment_predictions)\n",
        "\n",
        "log_energy_consumption_df = test_uncertainty_df.filter(like='log_energy_consumption', axis=1)\n",
        "test_uncertainty_df['log_energy_consumption_mean'] = log_energy_consumption_df.mean(axis=1)\n",
        "test_uncertainty_df['log_energy_consumption_std'] = log_energy_consumption_df.std(axis=1)\n",
        "\n",
        "test_uncertainty_df = test_uncertainty_df[['date', 'log_energy_consumption_mean', 'log_energy_consumption_std']]"
      ],
      "execution_count": 14,
      "outputs": [
        {
          "output_type": "stream",
          "name": "stderr",
          "text": [
            "/usr/local/lib/python3.7/dist-packages/ipykernel_launcher.py:8: PerformanceWarning:\n",
            "\n",
            "DataFrame is highly fragmented.  This is usually the result of calling `frame.insert` many times, which has poor performance.  Consider joining all columns at once using pd.concat(axis=1) instead.  To get a de-fragmented frame, use `newframe = frame.copy()`\n",
            "\n"
          ]
        }
      ]
    },
    {
      "cell_type": "code",
      "metadata": {
        "id": "SNrb70dSdDH0"
      },
      "source": [
        "test_uncertainty_df['lower_bound'] = test_uncertainty_df['log_energy_consumption_mean'] - 3*test_uncertainty_df['log_energy_consumption_std']\n",
        "test_uncertainty_df['upper_bound'] = test_uncertainty_df['log_energy_consumption_mean'] + 3*test_uncertainty_df['log_energy_consumption_std']"
      ],
      "execution_count": 15,
      "outputs": []
    },
    {
      "cell_type": "code",
      "metadata": {
        "id": "WdHylS8OdEHt",
        "colab": {
          "base_uri": "https://localhost:8080/",
          "height": 542
        },
        "outputId": "d388d075-0132-4386-e637-2a59ae78de54"
      },
      "source": [
        "import plotly.graph_objects as go\n",
        "\n",
        "test_uncertainty_plot_df = test_uncertainty_df.copy(deep=True)\n",
        "test_uncertainty_plot_df = test_uncertainty_plot_df.loc[test_uncertainty_plot_df['date'].between('2016-05-01', '2016-05-09')]\n",
        "truth_uncertainty_plot_df = testing_truth_df.copy(deep=True)\n",
        "truth_uncertainty_plot_df = truth_uncertainty_plot_df.loc[testing_truth_df['date'].between('2016-05-01', '2016-05-09')]\n",
        "\n",
        "upper_trace = go.Scatter(\n",
        "    x=test_uncertainty_plot_df['date'],\n",
        "    y=test_uncertainty_plot_df['upper_bound'],\n",
        "    mode='lines',\n",
        "    fill=None,\n",
        "    name='99% Upper Confidence Bound'\n",
        "    )\n",
        "lower_trace = go.Scatter(\n",
        "    x=test_uncertainty_plot_df['date'],\n",
        "    y=test_uncertainty_plot_df['lower_bound'],\n",
        "    mode='lines',\n",
        "    fill='tonexty',\n",
        "    fillcolor='rgba(255, 211, 0, 0.1)',\n",
        "    name='99% Lower Confidence Bound'\n",
        "    )\n",
        "real_trace = go.Scatter(\n",
        "    x=truth_uncertainty_plot_df['date'],\n",
        "    y=truth_uncertainty_plot_df['log_energy_consumption'],\n",
        "    mode='lines',\n",
        "    fill=None,\n",
        "    name='Real Values'\n",
        "    )\n",
        "\n",
        "data = [upper_trace, lower_trace, real_trace]\n",
        "\n",
        "fig = go.Figure(data=data)\n",
        "fig.update_layout(title='Uncertainty Quantification for Energy Consumption Test Data',\n",
        "                   xaxis_title='Time',\n",
        "                   yaxis_title='log_energy_consumption (log Wh)')\n",
        "\n",
        "fig.show()"
      ],
      "execution_count": 16,
      "outputs": [
        {
          "output_type": "display_data",
          "data": {
            "text/html": [
              "<html>\n",
              "<head><meta charset=\"utf-8\" /></head>\n",
              "<body>\n",
              "    <div>            <script src=\"https://cdnjs.cloudflare.com/ajax/libs/mathjax/2.7.5/MathJax.js?config=TeX-AMS-MML_SVG\"></script><script type=\"text/javascript\">if (window.MathJax) {MathJax.Hub.Config({SVG: {font: \"STIX-Web\"}});}</script>                <script type=\"text/javascript\">window.PlotlyConfig = {MathJaxConfig: 'local'};</script>\n",
              "        <script src=\"https://cdn.plot.ly/plotly-2.8.3.min.js\"></script>                <div id=\"e962b8d2-12cd-4bc3-b40d-85cbfa8cf7a1\" class=\"plotly-graph-div\" style=\"height:525px; width:100%;\"></div>            <script type=\"text/javascript\">                                    window.PLOTLYENV=window.PLOTLYENV || {};                                    if (document.getElementById(\"e962b8d2-12cd-4bc3-b40d-85cbfa8cf7a1\")) {                    Plotly.newPlot(                        \"e962b8d2-12cd-4bc3-b40d-85cbfa8cf7a1\",                        [{\"mode\":\"lines\",\"name\":\"99% Upper Confidence Bound\",\"x\":[\"2016-05-01T00:00:00\",\"2016-05-01T01:00:00\",\"2016-05-01T02:00:00\",\"2016-05-01T03:00:00\",\"2016-05-01T04:00:00\",\"2016-05-01T05:00:00\",\"2016-05-01T06:00:00\",\"2016-05-01T07:00:00\",\"2016-05-01T08:00:00\",\"2016-05-01T09:00:00\",\"2016-05-01T10:00:00\",\"2016-05-01T11:00:00\",\"2016-05-01T12:00:00\",\"2016-05-01T13:00:00\",\"2016-05-01T14:00:00\",\"2016-05-01T15:00:00\",\"2016-05-01T16:00:00\",\"2016-05-01T17:00:00\",\"2016-05-01T18:00:00\",\"2016-05-01T19:00:00\",\"2016-05-01T20:00:00\",\"2016-05-01T21:00:00\",\"2016-05-01T22:00:00\",\"2016-05-01T23:00:00\",\"2016-05-02T00:00:00\",\"2016-05-02T01:00:00\",\"2016-05-02T02:00:00\",\"2016-05-02T03:00:00\",\"2016-05-02T04:00:00\",\"2016-05-02T05:00:00\",\"2016-05-02T06:00:00\",\"2016-05-02T07:00:00\",\"2016-05-02T08:00:00\",\"2016-05-02T09:00:00\",\"2016-05-02T10:00:00\",\"2016-05-02T11:00:00\",\"2016-05-02T12:00:00\",\"2016-05-02T13:00:00\",\"2016-05-02T14:00:00\",\"2016-05-02T15:00:00\",\"2016-05-02T16:00:00\",\"2016-05-02T17:00:00\",\"2016-05-02T18:00:00\",\"2016-05-02T19:00:00\",\"2016-05-02T20:00:00\",\"2016-05-02T21:00:00\",\"2016-05-02T22:00:00\",\"2016-05-02T23:00:00\",\"2016-05-03T00:00:00\",\"2016-05-03T01:00:00\",\"2016-05-03T02:00:00\",\"2016-05-03T03:00:00\",\"2016-05-03T04:00:00\",\"2016-05-03T05:00:00\",\"2016-05-03T06:00:00\",\"2016-05-03T07:00:00\",\"2016-05-03T08:00:00\",\"2016-05-03T09:00:00\",\"2016-05-03T10:00:00\",\"2016-05-03T11:00:00\",\"2016-05-03T12:00:00\",\"2016-05-03T13:00:00\",\"2016-05-03T14:00:00\",\"2016-05-03T15:00:00\",\"2016-05-03T16:00:00\",\"2016-05-03T17:00:00\",\"2016-05-03T18:00:00\",\"2016-05-03T19:00:00\",\"2016-05-03T20:00:00\",\"2016-05-03T21:00:00\",\"2016-05-03T22:00:00\",\"2016-05-03T23:00:00\",\"2016-05-04T00:00:00\",\"2016-05-04T01:00:00\",\"2016-05-04T02:00:00\",\"2016-05-04T03:00:00\",\"2016-05-04T04:00:00\",\"2016-05-04T05:00:00\",\"2016-05-04T06:00:00\",\"2016-05-04T07:00:00\",\"2016-05-04T08:00:00\",\"2016-05-04T09:00:00\",\"2016-05-04T10:00:00\",\"2016-05-04T11:00:00\",\"2016-05-04T12:00:00\",\"2016-05-04T13:00:00\",\"2016-05-04T14:00:00\",\"2016-05-04T15:00:00\",\"2016-05-04T16:00:00\",\"2016-05-04T17:00:00\",\"2016-05-04T18:00:00\",\"2016-05-04T19:00:00\",\"2016-05-04T20:00:00\",\"2016-05-04T21:00:00\",\"2016-05-04T22:00:00\",\"2016-05-04T23:00:00\",\"2016-05-05T00:00:00\",\"2016-05-05T01:00:00\",\"2016-05-05T02:00:00\",\"2016-05-05T03:00:00\",\"2016-05-05T04:00:00\",\"2016-05-05T05:00:00\",\"2016-05-05T06:00:00\",\"2016-05-05T07:00:00\",\"2016-05-05T08:00:00\",\"2016-05-05T09:00:00\",\"2016-05-05T10:00:00\",\"2016-05-05T11:00:00\",\"2016-05-05T12:00:00\",\"2016-05-05T13:00:00\",\"2016-05-05T14:00:00\",\"2016-05-05T15:00:00\",\"2016-05-05T16:00:00\",\"2016-05-05T17:00:00\",\"2016-05-05T18:00:00\",\"2016-05-05T19:00:00\",\"2016-05-05T20:00:00\",\"2016-05-05T21:00:00\",\"2016-05-05T22:00:00\",\"2016-05-05T23:00:00\",\"2016-05-06T00:00:00\",\"2016-05-06T01:00:00\",\"2016-05-06T02:00:00\",\"2016-05-06T03:00:00\",\"2016-05-06T04:00:00\",\"2016-05-06T05:00:00\",\"2016-05-06T06:00:00\",\"2016-05-06T07:00:00\",\"2016-05-06T08:00:00\",\"2016-05-06T09:00:00\",\"2016-05-06T10:00:00\",\"2016-05-06T11:00:00\",\"2016-05-06T12:00:00\",\"2016-05-06T13:00:00\",\"2016-05-06T14:00:00\",\"2016-05-06T15:00:00\",\"2016-05-06T16:00:00\",\"2016-05-06T17:00:00\",\"2016-05-06T18:00:00\",\"2016-05-06T19:00:00\",\"2016-05-06T20:00:00\",\"2016-05-06T21:00:00\",\"2016-05-06T22:00:00\",\"2016-05-06T23:00:00\",\"2016-05-07T00:00:00\",\"2016-05-07T01:00:00\",\"2016-05-07T02:00:00\",\"2016-05-07T03:00:00\",\"2016-05-07T04:00:00\",\"2016-05-07T05:00:00\",\"2016-05-07T06:00:00\",\"2016-05-07T07:00:00\",\"2016-05-07T08:00:00\",\"2016-05-07T09:00:00\",\"2016-05-07T10:00:00\",\"2016-05-07T11:00:00\",\"2016-05-07T12:00:00\",\"2016-05-07T13:00:00\",\"2016-05-07T14:00:00\",\"2016-05-07T15:00:00\",\"2016-05-07T16:00:00\",\"2016-05-07T17:00:00\",\"2016-05-07T18:00:00\",\"2016-05-07T19:00:00\",\"2016-05-07T20:00:00\",\"2016-05-07T21:00:00\",\"2016-05-07T22:00:00\",\"2016-05-07T23:00:00\",\"2016-05-08T00:00:00\",\"2016-05-08T01:00:00\",\"2016-05-08T02:00:00\",\"2016-05-08T03:00:00\",\"2016-05-08T04:00:00\",\"2016-05-08T05:00:00\",\"2016-05-08T06:00:00\",\"2016-05-08T07:00:00\",\"2016-05-08T08:00:00\",\"2016-05-08T09:00:00\",\"2016-05-08T10:00:00\",\"2016-05-08T11:00:00\",\"2016-05-08T12:00:00\",\"2016-05-08T13:00:00\",\"2016-05-08T14:00:00\",\"2016-05-08T15:00:00\",\"2016-05-08T16:00:00\",\"2016-05-08T17:00:00\",\"2016-05-08T18:00:00\",\"2016-05-08T19:00:00\",\"2016-05-08T20:00:00\",\"2016-05-08T21:00:00\",\"2016-05-08T22:00:00\",\"2016-05-08T23:00:00\",\"2016-05-09T00:00:00\"],\"y\":[4.177597522735596,4.113191604614258,4.144073486328125,4.153148174285889,4.178974628448486,4.169905662536621,4.19492769241333,4.150099754333496,4.598565101623535,4.840313911437988,5.30033016204834,4.356175899505615,5.760735988616943,4.609764575958252,5.83404541015625,4.582023620605469,5.2876386642456055,4.776604652404785,6.092901706695557,5.481480121612549,4.710324764251709,4.458720684051514,4.405933856964111,4.243040561676025,4.178475856781006,4.1541948318481445,4.183518409729004,4.185006141662598,4.199956893920898,4.1693034172058105,4.6685471534729,5.843672752380371,4.57256555557251,4.40493106842041,4.235343933105469,4.195804119110107,4.4218621253967285,4.247660160064697,4.94221830368042,5.013862133026123,4.772449016571045,5.817056655883789,6.422954082489014,5.3171281814575195,4.784534454345703,4.402970790863037,4.348697185516357,4.49209451675415,4.197798252105713,4.202259063720703,4.16425085067749,4.141757488250732,4.202395915985107,5.246186256408691,4.778440475463867,4.4636921882629395,5.544338703155518,4.323617935180664,4.216307640075684,4.204668045043945,4.167089939117432,4.294618606567383,4.3346405029296875,5.0571818351745605,4.608551502227783,5.205574989318848,5.535619735717773,5.913636684417725,4.751600742340088,4.460274696350098,4.296627044677734,4.320355415344238,4.157413005828857,4.1573944091796875,4.134876251220703,4.168971538543701,4.202552795410156,4.19770622253418,4.28912353515625,5.729403018951416,4.387426853179932,5.356684684753418,5.247185707092285,4.436897277832031,4.594001293182373,4.374772071838379,4.800401210784912,4.638813495635986,4.733397483825684,5.729746341705322,5.470017910003662,4.787528038024902,4.610711574554443,4.350652694702148,4.278646469116211,4.223711013793945,4.239733695983887,4.189512729644775,4.155661582946777,4.178620338439941,4.134682655334473,4.184399127960205,4.179617404937744,4.290487766265869,5.432967662811279,4.930744171142578,5.9845781326293945,5.4018683433532715,4.6662163734436035,4.765897274017334,4.359248638153076,4.6278977394104,5.2136125564575195,5.883267879486084,5.743605136871338,5.207414150238037,5.218808174133301,4.298918724060059,4.1399054527282715,4.210680961608887,4.185658931732178,4.161022663116455,4.151885986328125,4.187725067138672,4.128011703491211,4.15760612487793,4.256579875946045,4.458834171295166,6.038931369781494,4.5037922859191895,4.552118301391602,4.940700531005859,4.423624038696289,5.071012020111084,4.450302600860596,6.090562343597412,5.111854076385498,6.214813232421875,5.230552673339844,5.117191791534424,4.795373439788818,4.798098087310791,4.278592586517334,4.18919038772583,4.164475440979004,4.184186935424805,4.153452396392822,4.197757244110107,4.16878080368042,4.236875057220459,4.234218120574951,4.281498908996582,5.766798496246338,5.367603778839111,4.797212600708008,5.384726524353027,5.285642623901367,4.670102119445801,4.814031600952148,4.5416059494018555,5.564100742340088,5.106698989868164,4.795706272125244,5.7913336753845215,4.8183698654174805,4.804093360900879,4.468031883239746,4.214574813842773,4.162372589111328,4.1700286865234375,4.1855363845825195,4.146235466003418,4.15962028503418,4.182645320892334,4.195835113525391,4.261119842529297,4.494614124298096,5.5667338371276855,4.927504539489746,4.731593132019043,4.15442419052124,4.186161041259766,4.353889465332031,4.41286563873291,4.3388824462890625,4.3445329666137695,4.399406909942627,5.067603588104248,4.183757781982422,4.399322032928467,4.218106269836426,4.168817043304443,4.174213409423828],\"type\":\"scatter\"},{\"fill\":\"tonexty\",\"fillcolor\":\"rgba(255, 211, 0, 0.1)\",\"mode\":\"lines\",\"name\":\"99% Lower Confidence Bound\",\"x\":[\"2016-05-01T00:00:00\",\"2016-05-01T01:00:00\",\"2016-05-01T02:00:00\",\"2016-05-01T03:00:00\",\"2016-05-01T04:00:00\",\"2016-05-01T05:00:00\",\"2016-05-01T06:00:00\",\"2016-05-01T07:00:00\",\"2016-05-01T08:00:00\",\"2016-05-01T09:00:00\",\"2016-05-01T10:00:00\",\"2016-05-01T11:00:00\",\"2016-05-01T12:00:00\",\"2016-05-01T13:00:00\",\"2016-05-01T14:00:00\",\"2016-05-01T15:00:00\",\"2016-05-01T16:00:00\",\"2016-05-01T17:00:00\",\"2016-05-01T18:00:00\",\"2016-05-01T19:00:00\",\"2016-05-01T20:00:00\",\"2016-05-01T21:00:00\",\"2016-05-01T22:00:00\",\"2016-05-01T23:00:00\",\"2016-05-02T00:00:00\",\"2016-05-02T01:00:00\",\"2016-05-02T02:00:00\",\"2016-05-02T03:00:00\",\"2016-05-02T04:00:00\",\"2016-05-02T05:00:00\",\"2016-05-02T06:00:00\",\"2016-05-02T07:00:00\",\"2016-05-02T08:00:00\",\"2016-05-02T09:00:00\",\"2016-05-02T10:00:00\",\"2016-05-02T11:00:00\",\"2016-05-02T12:00:00\",\"2016-05-02T13:00:00\",\"2016-05-02T14:00:00\",\"2016-05-02T15:00:00\",\"2016-05-02T16:00:00\",\"2016-05-02T17:00:00\",\"2016-05-02T18:00:00\",\"2016-05-02T19:00:00\",\"2016-05-02T20:00:00\",\"2016-05-02T21:00:00\",\"2016-05-02T22:00:00\",\"2016-05-02T23:00:00\",\"2016-05-03T00:00:00\",\"2016-05-03T01:00:00\",\"2016-05-03T02:00:00\",\"2016-05-03T03:00:00\",\"2016-05-03T04:00:00\",\"2016-05-03T05:00:00\",\"2016-05-03T06:00:00\",\"2016-05-03T07:00:00\",\"2016-05-03T08:00:00\",\"2016-05-03T09:00:00\",\"2016-05-03T10:00:00\",\"2016-05-03T11:00:00\",\"2016-05-03T12:00:00\",\"2016-05-03T13:00:00\",\"2016-05-03T14:00:00\",\"2016-05-03T15:00:00\",\"2016-05-03T16:00:00\",\"2016-05-03T17:00:00\",\"2016-05-03T18:00:00\",\"2016-05-03T19:00:00\",\"2016-05-03T20:00:00\",\"2016-05-03T21:00:00\",\"2016-05-03T22:00:00\",\"2016-05-03T23:00:00\",\"2016-05-04T00:00:00\",\"2016-05-04T01:00:00\",\"2016-05-04T02:00:00\",\"2016-05-04T03:00:00\",\"2016-05-04T04:00:00\",\"2016-05-04T05:00:00\",\"2016-05-04T06:00:00\",\"2016-05-04T07:00:00\",\"2016-05-04T08:00:00\",\"2016-05-04T09:00:00\",\"2016-05-04T10:00:00\",\"2016-05-04T11:00:00\",\"2016-05-04T12:00:00\",\"2016-05-04T13:00:00\",\"2016-05-04T14:00:00\",\"2016-05-04T15:00:00\",\"2016-05-04T16:00:00\",\"2016-05-04T17:00:00\",\"2016-05-04T18:00:00\",\"2016-05-04T19:00:00\",\"2016-05-04T20:00:00\",\"2016-05-04T21:00:00\",\"2016-05-04T22:00:00\",\"2016-05-04T23:00:00\",\"2016-05-05T00:00:00\",\"2016-05-05T01:00:00\",\"2016-05-05T02:00:00\",\"2016-05-05T03:00:00\",\"2016-05-05T04:00:00\",\"2016-05-05T05:00:00\",\"2016-05-05T06:00:00\",\"2016-05-05T07:00:00\",\"2016-05-05T08:00:00\",\"2016-05-05T09:00:00\",\"2016-05-05T10:00:00\",\"2016-05-05T11:00:00\",\"2016-05-05T12:00:00\",\"2016-05-05T13:00:00\",\"2016-05-05T14:00:00\",\"2016-05-05T15:00:00\",\"2016-05-05T16:00:00\",\"2016-05-05T17:00:00\",\"2016-05-05T18:00:00\",\"2016-05-05T19:00:00\",\"2016-05-05T20:00:00\",\"2016-05-05T21:00:00\",\"2016-05-05T22:00:00\",\"2016-05-05T23:00:00\",\"2016-05-06T00:00:00\",\"2016-05-06T01:00:00\",\"2016-05-06T02:00:00\",\"2016-05-06T03:00:00\",\"2016-05-06T04:00:00\",\"2016-05-06T05:00:00\",\"2016-05-06T06:00:00\",\"2016-05-06T07:00:00\",\"2016-05-06T08:00:00\",\"2016-05-06T09:00:00\",\"2016-05-06T10:00:00\",\"2016-05-06T11:00:00\",\"2016-05-06T12:00:00\",\"2016-05-06T13:00:00\",\"2016-05-06T14:00:00\",\"2016-05-06T15:00:00\",\"2016-05-06T16:00:00\",\"2016-05-06T17:00:00\",\"2016-05-06T18:00:00\",\"2016-05-06T19:00:00\",\"2016-05-06T20:00:00\",\"2016-05-06T21:00:00\",\"2016-05-06T22:00:00\",\"2016-05-06T23:00:00\",\"2016-05-07T00:00:00\",\"2016-05-07T01:00:00\",\"2016-05-07T02:00:00\",\"2016-05-07T03:00:00\",\"2016-05-07T04:00:00\",\"2016-05-07T05:00:00\",\"2016-05-07T06:00:00\",\"2016-05-07T07:00:00\",\"2016-05-07T08:00:00\",\"2016-05-07T09:00:00\",\"2016-05-07T10:00:00\",\"2016-05-07T11:00:00\",\"2016-05-07T12:00:00\",\"2016-05-07T13:00:00\",\"2016-05-07T14:00:00\",\"2016-05-07T15:00:00\",\"2016-05-07T16:00:00\",\"2016-05-07T17:00:00\",\"2016-05-07T18:00:00\",\"2016-05-07T19:00:00\",\"2016-05-07T20:00:00\",\"2016-05-07T21:00:00\",\"2016-05-07T22:00:00\",\"2016-05-07T23:00:00\",\"2016-05-08T00:00:00\",\"2016-05-08T01:00:00\",\"2016-05-08T02:00:00\",\"2016-05-08T03:00:00\",\"2016-05-08T04:00:00\",\"2016-05-08T05:00:00\",\"2016-05-08T06:00:00\",\"2016-05-08T07:00:00\",\"2016-05-08T08:00:00\",\"2016-05-08T09:00:00\",\"2016-05-08T10:00:00\",\"2016-05-08T11:00:00\",\"2016-05-08T12:00:00\",\"2016-05-08T13:00:00\",\"2016-05-08T14:00:00\",\"2016-05-08T15:00:00\",\"2016-05-08T16:00:00\",\"2016-05-08T17:00:00\",\"2016-05-08T18:00:00\",\"2016-05-08T19:00:00\",\"2016-05-08T20:00:00\",\"2016-05-08T21:00:00\",\"2016-05-08T22:00:00\",\"2016-05-08T23:00:00\",\"2016-05-09T00:00:00\"],\"y\":[3.661428689956665,3.620727062225342,3.454241991043091,3.618648052215576,3.7235374450683594,3.6494359970092773,3.604372978210449,3.6032419204711914,4.092686653137207,4.26255989074707,4.455706596374512,3.897489309310913,4.501107692718506,4.145906925201416,4.546039581298828,4.244650840759277,4.520533561706543,4.381268501281738,4.701229572296143,4.5353007316589355,4.181548595428467,3.971813440322876,4.02354097366333,3.8306777477264404,3.7520079612731934,3.6736533641815186,3.6443662643432617,3.6946628093719482,3.7251698970794678,3.7288968563079834,3.684591054916382,4.694244384765625,3.9620909690856934,3.856448173522949,3.7260358333587646,3.780557155609131,3.789745807647705,3.691859722137451,3.830226421356201,4.314381122589111,4.106266498565674,4.723352432250977,4.934048175811768,4.448616027832031,4.395051956176758,3.994507312774658,3.8018288612365723,3.800966501235962,3.8411507606506348,3.7520248889923096,3.722716808319092,3.7132675647735596,3.706651210784912,4.27362060546875,4.063161849975586,3.84607195854187,4.553715229034424,3.582305908203125,3.7315425872802734,3.5684852600097656,3.6699678897857666,3.7975285053253174,3.865673780441284,4.125173091888428,3.5785629749298096,4.059937477111816,4.527878761291504,4.706252574920654,4.4210591316223145,4.058483123779297,3.7520217895507812,3.7887306213378906,3.736323356628418,3.6606531143188477,3.6149771213531494,3.700967311859131,3.7867462635040283,3.707606792449951,3.745760202407837,4.664343357086182,3.8269858360290527,4.401615142822266,4.264998435974121,4.077051162719727,4.20254373550415,3.946316957473755,4.399289608001709,4.309192180633545,4.282814979553223,4.544990062713623,4.638390064239502,4.377081871032715,4.176045894622803,3.996615409851074,3.8103322982788086,3.795168876647949,3.780066728591919,3.68342924118042,3.694093942642212,3.542302131652832,3.5808212757110596,3.757101058959961,3.8581337928771973,3.955756664276123,4.231788158416748,4.105374336242676,4.725895881652832,4.494012355804443,4.243502140045166,4.26708459854126,3.774620532989502,3.8968613147735596,4.1963090896606445,4.788686275482178,4.630652904510498,4.481260776519775,4.524126052856445,3.9075489044189453,3.5413060188293457,3.7424793243408203,3.7310996055603027,3.6903648376464844,3.6806724071502686,3.5971193313598633,3.6240298748016357,3.7170798778533936,3.874962329864502,4.127148151397705,4.6472697257995605,4.079867839813232,3.9260685443878174,4.32575798034668,4.100828170776367,4.470541477203369,3.994030475616455,4.835902690887451,4.040722370147705,4.776611328125,4.521388053894043,4.49783182144165,4.418904781341553,4.420350551605225,3.90073561668396,3.7823433876037598,3.716750144958496,3.7536628246307373,3.7474217414855957,3.649507999420166,3.6532726287841797,3.8425185680389404,3.857605457305908,3.9433767795562744,4.5848870277404785,4.407522678375244,4.390213966369629,4.458873748779297,4.496340751647949,4.196952819824219,4.362363815307617,4.145784378051758,4.706838130950928,4.48484992980957,4.408134937286377,4.6869072914123535,4.363210678100586,4.366905212402344,3.961013078689575,3.800018310546875,3.8067986965179443,3.726083278656006,3.6992008686065674,3.6930739879608154,3.732799530029297,3.7496297359466553,3.782567262649536,3.7494421005249023,4.063734531402588,4.668928623199463,4.3225250244140625,4.148322105407715,3.650656223297119,3.8024725914001465,3.825657844543457,3.7631378173828125,3.9119951725006104,3.889169454574585,4.0317158699035645,4.2344841957092285,3.7911674976348877,3.903062105178833,3.795337677001953,3.7412335872650146,3.7915525436401367],\"type\":\"scatter\"},{\"mode\":\"lines\",\"name\":\"Real Values\",\"x\":[\"2016-05-01T00:00:00\",\"2016-05-01T01:00:00\",\"2016-05-01T02:00:00\",\"2016-05-01T03:00:00\",\"2016-05-01T04:00:00\",\"2016-05-01T05:00:00\",\"2016-05-01T06:00:00\",\"2016-05-01T07:00:00\",\"2016-05-01T08:00:00\",\"2016-05-01T09:00:00\",\"2016-05-01T10:00:00\",\"2016-05-01T11:00:00\",\"2016-05-01T12:00:00\",\"2016-05-01T13:00:00\",\"2016-05-01T14:00:00\",\"2016-05-01T15:00:00\",\"2016-05-01T16:00:00\",\"2016-05-01T17:00:00\",\"2016-05-01T18:00:00\",\"2016-05-01T19:00:00\",\"2016-05-01T20:00:00\",\"2016-05-01T21:00:00\",\"2016-05-01T22:00:00\",\"2016-05-01T23:00:00\",\"2016-05-02T00:00:00\",\"2016-05-02T01:00:00\",\"2016-05-02T02:00:00\",\"2016-05-02T03:00:00\",\"2016-05-02T04:00:00\",\"2016-05-02T05:00:00\",\"2016-05-02T06:00:00\",\"2016-05-02T07:00:00\",\"2016-05-02T08:00:00\",\"2016-05-02T09:00:00\",\"2016-05-02T10:00:00\",\"2016-05-02T11:00:00\",\"2016-05-02T12:00:00\",\"2016-05-02T13:00:00\",\"2016-05-02T14:00:00\",\"2016-05-02T15:00:00\",\"2016-05-02T16:00:00\",\"2016-05-02T17:00:00\",\"2016-05-02T18:00:00\",\"2016-05-02T19:00:00\",\"2016-05-02T20:00:00\",\"2016-05-02T21:00:00\",\"2016-05-02T22:00:00\",\"2016-05-02T23:00:00\",\"2016-05-03T00:00:00\",\"2016-05-03T01:00:00\",\"2016-05-03T02:00:00\",\"2016-05-03T03:00:00\",\"2016-05-03T04:00:00\",\"2016-05-03T05:00:00\",\"2016-05-03T06:00:00\",\"2016-05-03T07:00:00\",\"2016-05-03T08:00:00\",\"2016-05-03T09:00:00\",\"2016-05-03T10:00:00\",\"2016-05-03T11:00:00\",\"2016-05-03T12:00:00\",\"2016-05-03T13:00:00\",\"2016-05-03T14:00:00\",\"2016-05-03T15:00:00\",\"2016-05-03T16:00:00\",\"2016-05-03T17:00:00\",\"2016-05-03T18:00:00\",\"2016-05-03T19:00:00\",\"2016-05-03T20:00:00\",\"2016-05-03T21:00:00\",\"2016-05-03T22:00:00\",\"2016-05-03T23:00:00\",\"2016-05-04T00:00:00\",\"2016-05-04T01:00:00\",\"2016-05-04T02:00:00\",\"2016-05-04T03:00:00\",\"2016-05-04T04:00:00\",\"2016-05-04T05:00:00\",\"2016-05-04T06:00:00\",\"2016-05-04T07:00:00\",\"2016-05-04T08:00:00\",\"2016-05-04T09:00:00\",\"2016-05-04T10:00:00\",\"2016-05-04T11:00:00\",\"2016-05-04T12:00:00\",\"2016-05-04T13:00:00\",\"2016-05-04T14:00:00\",\"2016-05-04T15:00:00\",\"2016-05-04T16:00:00\",\"2016-05-04T17:00:00\",\"2016-05-04T18:00:00\",\"2016-05-04T19:00:00\",\"2016-05-04T20:00:00\",\"2016-05-04T21:00:00\",\"2016-05-04T22:00:00\",\"2016-05-04T23:00:00\",\"2016-05-05T00:00:00\",\"2016-05-05T01:00:00\",\"2016-05-05T02:00:00\",\"2016-05-05T03:00:00\",\"2016-05-05T04:00:00\",\"2016-05-05T05:00:00\",\"2016-05-05T06:00:00\",\"2016-05-05T07:00:00\",\"2016-05-05T08:00:00\",\"2016-05-05T09:00:00\",\"2016-05-05T10:00:00\",\"2016-05-05T11:00:00\",\"2016-05-05T12:00:00\",\"2016-05-05T13:00:00\",\"2016-05-05T14:00:00\",\"2016-05-05T15:00:00\",\"2016-05-05T16:00:00\",\"2016-05-05T17:00:00\",\"2016-05-05T18:00:00\",\"2016-05-05T19:00:00\",\"2016-05-05T20:00:00\",\"2016-05-05T21:00:00\",\"2016-05-05T22:00:00\",\"2016-05-05T23:00:00\",\"2016-05-06T00:00:00\",\"2016-05-06T01:00:00\",\"2016-05-06T02:00:00\",\"2016-05-06T03:00:00\",\"2016-05-06T04:00:00\",\"2016-05-06T05:00:00\",\"2016-05-06T06:00:00\",\"2016-05-06T07:00:00\",\"2016-05-06T08:00:00\",\"2016-05-06T09:00:00\",\"2016-05-06T10:00:00\",\"2016-05-06T11:00:00\",\"2016-05-06T12:00:00\",\"2016-05-06T13:00:00\",\"2016-05-06T14:00:00\",\"2016-05-06T15:00:00\",\"2016-05-06T16:00:00\",\"2016-05-06T17:00:00\",\"2016-05-06T18:00:00\",\"2016-05-06T19:00:00\",\"2016-05-06T20:00:00\",\"2016-05-06T21:00:00\",\"2016-05-06T22:00:00\",\"2016-05-06T23:00:00\",\"2016-05-07T00:00:00\",\"2016-05-07T01:00:00\",\"2016-05-07T02:00:00\",\"2016-05-07T03:00:00\",\"2016-05-07T04:00:00\",\"2016-05-07T05:00:00\",\"2016-05-07T06:00:00\",\"2016-05-07T07:00:00\",\"2016-05-07T08:00:00\",\"2016-05-07T09:00:00\",\"2016-05-07T10:00:00\",\"2016-05-07T11:00:00\",\"2016-05-07T12:00:00\",\"2016-05-07T13:00:00\",\"2016-05-07T14:00:00\",\"2016-05-07T15:00:00\",\"2016-05-07T16:00:00\",\"2016-05-07T17:00:00\",\"2016-05-07T18:00:00\",\"2016-05-07T19:00:00\",\"2016-05-07T20:00:00\",\"2016-05-07T21:00:00\",\"2016-05-07T22:00:00\",\"2016-05-07T23:00:00\",\"2016-05-08T00:00:00\",\"2016-05-08T01:00:00\",\"2016-05-08T02:00:00\",\"2016-05-08T03:00:00\",\"2016-05-08T04:00:00\",\"2016-05-08T05:00:00\",\"2016-05-08T06:00:00\",\"2016-05-08T07:00:00\",\"2016-05-08T08:00:00\",\"2016-05-08T09:00:00\",\"2016-05-08T10:00:00\",\"2016-05-08T11:00:00\",\"2016-05-08T12:00:00\",\"2016-05-08T13:00:00\",\"2016-05-08T14:00:00\",\"2016-05-08T15:00:00\",\"2016-05-08T16:00:00\",\"2016-05-08T17:00:00\",\"2016-05-08T18:00:00\",\"2016-05-08T19:00:00\",\"2016-05-08T20:00:00\",\"2016-05-08T21:00:00\",\"2016-05-08T22:00:00\",\"2016-05-08T23:00:00\",\"2016-05-09T00:00:00\"],\"y\":[3.9448128282511368,4.007333185232471,3.8781214537524646,3.7297014486341915,3.9765615265657175,3.9448128282511368,3.9765615265657175,4.0661736852554045,4.442651256490317,4.499809670330265,4.148411783492376,4.518158808998462,4.5712686343124105,4.360973225476049,4.685212893661628,4.653960350157523,5.3706380281276624,5.714832310842786,5.604575824572753,4.75932086581535,4.669708707125663,4.442651256490317,4.248495242049359,3.8781214537524646,4.007333185232471,3.9448128282511368,3.6888794541139363,3.9765615265657175,3.9448128282511368,4.637960008811082,4.339467020255086,5.135798437050262,3.9765615265657175,4.007333185232471,3.9765615265657175,3.9448128282511368,4.402645921876617,4.402645921876617,4.382026634673881,4.402645921876617,4.653960350157523,5.579729825986222,4.841558964052322,4.90527477843843,4.700480365792417,3.9765615265657175,4.174387269895637,4.007333185232471,4.007333185232471,3.6463198396951406,3.9765615265657175,3.9765615265657175,3.912023005428146,3.9448128282511368,4.2243976904702984,3.912023005428146,4.007333185232471,3.6888794541139363,3.9448128282511368,3.9765615265657175,3.9765615265657175,3.6888794541139363,4.037186148382152,3.912023005428146,4.174387269895637,5.501258210544727,4.892852258439873,4.929666231562589,4.773505500807306,4.037186148382152,4.007333185232471,3.7297014486341915,3.9448128282511368,3.9765615265657175,4.007333185232471,3.6463198396951406,3.912023005428146,4.199705077879927,4.74493212836325,4.0943445622221,5.1647859739235145,4.272025739459553,4.422848629194137,4.339467020255086,4.174387269895637,4.248495242049359,4.248495242049359,4.2243976904702984,4.402645921876617,4.7303333289420975,4.892852258439873,4.715518243156957,4.605170185988092,4.31748811353631,4.007333185232471,4.007333185232471,3.6888794541139363,4.037186148382152,3.9448128282511368,4.007333185232471,3.9448128282511368,3.6463198396951406,4.0661736852554045,5.115995809754082,5.155216522907363,4.442651256490317,4.5712686343124105,4.481117537318112,4.637960008811082,3.7297014486341915,4.007333185232471,4.0661736852554045,3.9448128282511368,5.314846668499247,5.085536602269373,4.58836306767171,4.58836306767171,4.272025739459553,4.037186148382152,4.007333185232471,3.7297014486341915,4.0661736852554045,3.912023005428146,4.0661736852554045,3.912023005428146,3.9448128282511368,4.295015257684252,5.508037897530106,4.553876891600541,5.610692051590189,4.499809670330265,4.700480365792417,4.929666231562589,4.382026634673881,5.075173815233827,4.31748811353631,4.248495242049359,4.53617731450114,5.174264717878057,4.841558964052322,4.75932086581535,4.272025739459553,3.9765615265657175,4.0661736852554045,3.9448128282511368,4.037186148382152,3.9765615265657175,4.007333185232471,4.007333185232471,3.9448128282511368,3.9765615265657175,4.999461993498131,4.8012850649143815,5.032614200815031,5.183654458227897,5.085536602269373,4.4620693423474185,4.31748811353631,4.481117537318112,4.637960008811082,4.518158808998462,4.422848629194137,5.652489180268651,4.787491742782046,4.4620693423474185,4.037186148382152,4.0661736852554045,4.037186148382152,4.0661736852554045,3.9448128282511368,4.007333185232471,4.037186148382152,3.912023005428146,4.037186148382152,3.912023005428146,4.0943445622221,5.211305989558407,4.965172920019499,4.90527477843843,3.912023005428146,4.037186148382152,4.037186148382152,4.037186148382152,3.912023005428146,4.007333185232471,4.037186148382152,3.912023005428146,4.0943445622221,4.360973225476049,4.148411783492376,4.0661736852554045,3.9765615265657175,4.007333185232471],\"type\":\"scatter\"}],                        {\"template\":{\"data\":{\"bar\":[{\"error_x\":{\"color\":\"#2a3f5f\"},\"error_y\":{\"color\":\"#2a3f5f\"},\"marker\":{\"line\":{\"color\":\"#E5ECF6\",\"width\":0.5},\"pattern\":{\"fillmode\":\"overlay\",\"size\":10,\"solidity\":0.2}},\"type\":\"bar\"}],\"barpolar\":[{\"marker\":{\"line\":{\"color\":\"#E5ECF6\",\"width\":0.5},\"pattern\":{\"fillmode\":\"overlay\",\"size\":10,\"solidity\":0.2}},\"type\":\"barpolar\"}],\"carpet\":[{\"aaxis\":{\"endlinecolor\":\"#2a3f5f\",\"gridcolor\":\"white\",\"linecolor\":\"white\",\"minorgridcolor\":\"white\",\"startlinecolor\":\"#2a3f5f\"},\"baxis\":{\"endlinecolor\":\"#2a3f5f\",\"gridcolor\":\"white\",\"linecolor\":\"white\",\"minorgridcolor\":\"white\",\"startlinecolor\":\"#2a3f5f\"},\"type\":\"carpet\"}],\"choropleth\":[{\"colorbar\":{\"outlinewidth\":0,\"ticks\":\"\"},\"type\":\"choropleth\"}],\"contour\":[{\"colorbar\":{\"outlinewidth\":0,\"ticks\":\"\"},\"colorscale\":[[0.0,\"#0d0887\"],[0.1111111111111111,\"#46039f\"],[0.2222222222222222,\"#7201a8\"],[0.3333333333333333,\"#9c179e\"],[0.4444444444444444,\"#bd3786\"],[0.5555555555555556,\"#d8576b\"],[0.6666666666666666,\"#ed7953\"],[0.7777777777777778,\"#fb9f3a\"],[0.8888888888888888,\"#fdca26\"],[1.0,\"#f0f921\"]],\"type\":\"contour\"}],\"contourcarpet\":[{\"colorbar\":{\"outlinewidth\":0,\"ticks\":\"\"},\"type\":\"contourcarpet\"}],\"heatmap\":[{\"colorbar\":{\"outlinewidth\":0,\"ticks\":\"\"},\"colorscale\":[[0.0,\"#0d0887\"],[0.1111111111111111,\"#46039f\"],[0.2222222222222222,\"#7201a8\"],[0.3333333333333333,\"#9c179e\"],[0.4444444444444444,\"#bd3786\"],[0.5555555555555556,\"#d8576b\"],[0.6666666666666666,\"#ed7953\"],[0.7777777777777778,\"#fb9f3a\"],[0.8888888888888888,\"#fdca26\"],[1.0,\"#f0f921\"]],\"type\":\"heatmap\"}],\"heatmapgl\":[{\"colorbar\":{\"outlinewidth\":0,\"ticks\":\"\"},\"colorscale\":[[0.0,\"#0d0887\"],[0.1111111111111111,\"#46039f\"],[0.2222222222222222,\"#7201a8\"],[0.3333333333333333,\"#9c179e\"],[0.4444444444444444,\"#bd3786\"],[0.5555555555555556,\"#d8576b\"],[0.6666666666666666,\"#ed7953\"],[0.7777777777777778,\"#fb9f3a\"],[0.8888888888888888,\"#fdca26\"],[1.0,\"#f0f921\"]],\"type\":\"heatmapgl\"}],\"histogram\":[{\"marker\":{\"pattern\":{\"fillmode\":\"overlay\",\"size\":10,\"solidity\":0.2}},\"type\":\"histogram\"}],\"histogram2d\":[{\"colorbar\":{\"outlinewidth\":0,\"ticks\":\"\"},\"colorscale\":[[0.0,\"#0d0887\"],[0.1111111111111111,\"#46039f\"],[0.2222222222222222,\"#7201a8\"],[0.3333333333333333,\"#9c179e\"],[0.4444444444444444,\"#bd3786\"],[0.5555555555555556,\"#d8576b\"],[0.6666666666666666,\"#ed7953\"],[0.7777777777777778,\"#fb9f3a\"],[0.8888888888888888,\"#fdca26\"],[1.0,\"#f0f921\"]],\"type\":\"histogram2d\"}],\"histogram2dcontour\":[{\"colorbar\":{\"outlinewidth\":0,\"ticks\":\"\"},\"colorscale\":[[0.0,\"#0d0887\"],[0.1111111111111111,\"#46039f\"],[0.2222222222222222,\"#7201a8\"],[0.3333333333333333,\"#9c179e\"],[0.4444444444444444,\"#bd3786\"],[0.5555555555555556,\"#d8576b\"],[0.6666666666666666,\"#ed7953\"],[0.7777777777777778,\"#fb9f3a\"],[0.8888888888888888,\"#fdca26\"],[1.0,\"#f0f921\"]],\"type\":\"histogram2dcontour\"}],\"mesh3d\":[{\"colorbar\":{\"outlinewidth\":0,\"ticks\":\"\"},\"type\":\"mesh3d\"}],\"parcoords\":[{\"line\":{\"colorbar\":{\"outlinewidth\":0,\"ticks\":\"\"}},\"type\":\"parcoords\"}],\"pie\":[{\"automargin\":true,\"type\":\"pie\"}],\"scatter\":[{\"marker\":{\"colorbar\":{\"outlinewidth\":0,\"ticks\":\"\"}},\"type\":\"scatter\"}],\"scatter3d\":[{\"line\":{\"colorbar\":{\"outlinewidth\":0,\"ticks\":\"\"}},\"marker\":{\"colorbar\":{\"outlinewidth\":0,\"ticks\":\"\"}},\"type\":\"scatter3d\"}],\"scattercarpet\":[{\"marker\":{\"colorbar\":{\"outlinewidth\":0,\"ticks\":\"\"}},\"type\":\"scattercarpet\"}],\"scattergeo\":[{\"marker\":{\"colorbar\":{\"outlinewidth\":0,\"ticks\":\"\"}},\"type\":\"scattergeo\"}],\"scattergl\":[{\"marker\":{\"colorbar\":{\"outlinewidth\":0,\"ticks\":\"\"}},\"type\":\"scattergl\"}],\"scattermapbox\":[{\"marker\":{\"colorbar\":{\"outlinewidth\":0,\"ticks\":\"\"}},\"type\":\"scattermapbox\"}],\"scatterpolar\":[{\"marker\":{\"colorbar\":{\"outlinewidth\":0,\"ticks\":\"\"}},\"type\":\"scatterpolar\"}],\"scatterpolargl\":[{\"marker\":{\"colorbar\":{\"outlinewidth\":0,\"ticks\":\"\"}},\"type\":\"scatterpolargl\"}],\"scatterternary\":[{\"marker\":{\"colorbar\":{\"outlinewidth\":0,\"ticks\":\"\"}},\"type\":\"scatterternary\"}],\"surface\":[{\"colorbar\":{\"outlinewidth\":0,\"ticks\":\"\"},\"colorscale\":[[0.0,\"#0d0887\"],[0.1111111111111111,\"#46039f\"],[0.2222222222222222,\"#7201a8\"],[0.3333333333333333,\"#9c179e\"],[0.4444444444444444,\"#bd3786\"],[0.5555555555555556,\"#d8576b\"],[0.6666666666666666,\"#ed7953\"],[0.7777777777777778,\"#fb9f3a\"],[0.8888888888888888,\"#fdca26\"],[1.0,\"#f0f921\"]],\"type\":\"surface\"}],\"table\":[{\"cells\":{\"fill\":{\"color\":\"#EBF0F8\"},\"line\":{\"color\":\"white\"}},\"header\":{\"fill\":{\"color\":\"#C8D4E3\"},\"line\":{\"color\":\"white\"}},\"type\":\"table\"}]},\"layout\":{\"annotationdefaults\":{\"arrowcolor\":\"#2a3f5f\",\"arrowhead\":0,\"arrowwidth\":1},\"autotypenumbers\":\"strict\",\"coloraxis\":{\"colorbar\":{\"outlinewidth\":0,\"ticks\":\"\"}},\"colorscale\":{\"diverging\":[[0,\"#8e0152\"],[0.1,\"#c51b7d\"],[0.2,\"#de77ae\"],[0.3,\"#f1b6da\"],[0.4,\"#fde0ef\"],[0.5,\"#f7f7f7\"],[0.6,\"#e6f5d0\"],[0.7,\"#b8e186\"],[0.8,\"#7fbc41\"],[0.9,\"#4d9221\"],[1,\"#276419\"]],\"sequential\":[[0.0,\"#0d0887\"],[0.1111111111111111,\"#46039f\"],[0.2222222222222222,\"#7201a8\"],[0.3333333333333333,\"#9c179e\"],[0.4444444444444444,\"#bd3786\"],[0.5555555555555556,\"#d8576b\"],[0.6666666666666666,\"#ed7953\"],[0.7777777777777778,\"#fb9f3a\"],[0.8888888888888888,\"#fdca26\"],[1.0,\"#f0f921\"]],\"sequentialminus\":[[0.0,\"#0d0887\"],[0.1111111111111111,\"#46039f\"],[0.2222222222222222,\"#7201a8\"],[0.3333333333333333,\"#9c179e\"],[0.4444444444444444,\"#bd3786\"],[0.5555555555555556,\"#d8576b\"],[0.6666666666666666,\"#ed7953\"],[0.7777777777777778,\"#fb9f3a\"],[0.8888888888888888,\"#fdca26\"],[1.0,\"#f0f921\"]]},\"colorway\":[\"#636efa\",\"#EF553B\",\"#00cc96\",\"#ab63fa\",\"#FFA15A\",\"#19d3f3\",\"#FF6692\",\"#B6E880\",\"#FF97FF\",\"#FECB52\"],\"font\":{\"color\":\"#2a3f5f\"},\"geo\":{\"bgcolor\":\"white\",\"lakecolor\":\"white\",\"landcolor\":\"#E5ECF6\",\"showlakes\":true,\"showland\":true,\"subunitcolor\":\"white\"},\"hoverlabel\":{\"align\":\"left\"},\"hovermode\":\"closest\",\"mapbox\":{\"style\":\"light\"},\"paper_bgcolor\":\"white\",\"plot_bgcolor\":\"#E5ECF6\",\"polar\":{\"angularaxis\":{\"gridcolor\":\"white\",\"linecolor\":\"white\",\"ticks\":\"\"},\"bgcolor\":\"#E5ECF6\",\"radialaxis\":{\"gridcolor\":\"white\",\"linecolor\":\"white\",\"ticks\":\"\"}},\"scene\":{\"xaxis\":{\"backgroundcolor\":\"#E5ECF6\",\"gridcolor\":\"white\",\"gridwidth\":2,\"linecolor\":\"white\",\"showbackground\":true,\"ticks\":\"\",\"zerolinecolor\":\"white\"},\"yaxis\":{\"backgroundcolor\":\"#E5ECF6\",\"gridcolor\":\"white\",\"gridwidth\":2,\"linecolor\":\"white\",\"showbackground\":true,\"ticks\":\"\",\"zerolinecolor\":\"white\"},\"zaxis\":{\"backgroundcolor\":\"#E5ECF6\",\"gridcolor\":\"white\",\"gridwidth\":2,\"linecolor\":\"white\",\"showbackground\":true,\"ticks\":\"\",\"zerolinecolor\":\"white\"}},\"shapedefaults\":{\"line\":{\"color\":\"#2a3f5f\"}},\"ternary\":{\"aaxis\":{\"gridcolor\":\"white\",\"linecolor\":\"white\",\"ticks\":\"\"},\"baxis\":{\"gridcolor\":\"white\",\"linecolor\":\"white\",\"ticks\":\"\"},\"bgcolor\":\"#E5ECF6\",\"caxis\":{\"gridcolor\":\"white\",\"linecolor\":\"white\",\"ticks\":\"\"}},\"title\":{\"x\":0.05},\"xaxis\":{\"automargin\":true,\"gridcolor\":\"white\",\"linecolor\":\"white\",\"ticks\":\"\",\"title\":{\"standoff\":15},\"zerolinecolor\":\"white\",\"zerolinewidth\":2},\"yaxis\":{\"automargin\":true,\"gridcolor\":\"white\",\"linecolor\":\"white\",\"ticks\":\"\",\"title\":{\"standoff\":15},\"zerolinecolor\":\"white\",\"zerolinewidth\":2}}},\"title\":{\"text\":\"Uncertainty Quantification for Energy Consumption Test Data\"},\"xaxis\":{\"title\":{\"text\":\"Time\"}},\"yaxis\":{\"title\":{\"text\":\"log_energy_consumption (log Wh)\"}}},                        {\"responsive\": true}                    ).then(function(){\n",
              "                            \n",
              "var gd = document.getElementById('e962b8d2-12cd-4bc3-b40d-85cbfa8cf7a1');\n",
              "var x = new MutationObserver(function (mutations, observer) {{\n",
              "        var display = window.getComputedStyle(gd).display;\n",
              "        if (!display || display === 'none') {{\n",
              "            console.log([gd, 'removed!']);\n",
              "            Plotly.purge(gd);\n",
              "            observer.disconnect();\n",
              "        }}\n",
              "}});\n",
              "\n",
              "// Listen for the removal of the full notebook cells\n",
              "var notebookContainer = gd.closest('#notebook-container');\n",
              "if (notebookContainer) {{\n",
              "    x.observe(notebookContainer, {childList: true});\n",
              "}}\n",
              "\n",
              "// Listen for the clearing of the current output cell\n",
              "var outputEl = gd.closest('.output');\n",
              "if (outputEl) {{\n",
              "    x.observe(outputEl, {childList: true});\n",
              "}}\n",
              "\n",
              "                        })                };                            </script>        </div>\n",
              "</body>\n",
              "</html>"
            ]
          },
          "metadata": {}
        }
      ]
    },
    {
      "cell_type": "markdown",
      "metadata": {
        "id": "7THEK4P96J0S"
      },
      "source": [
        "#### Evaluating Uncertainty"
      ]
    },
    {
      "cell_type": "markdown",
      "metadata": {
        "id": "PPuR8L6D6PkL"
      },
      "source": [
        "Using multiple experiments above, 99% confidence intervals have been constructed for each the prediction of the target variable (the logarithm of appliance power consumption). While we can visually observe that the model is generally capturing the behavior of the time-series, approximately only 50% of the real data points lie within a 99% confidence interval from the mean prediction value.\n",
        "\n",
        "Despite the relatively low percentage of points within the confidence interval, it must be noted that Bayesian Neural Networks only seek to quantify the epistemic model uncertainty and does not account for aleatoric uncertainty (i.e. noise)."
      ]
    },
    {
      "cell_type": "code",
      "metadata": {
        "id": "mV2_6qekxzLn",
        "colab": {
          "base_uri": "https://localhost:8080/"
        },
        "outputId": "9735c3a9-3a44-4844-feac-0f700154398f"
      },
      "source": [
        "bounds_df = pd.DataFrame()\n",
        "\n",
        "# Using 99% confidence bounds\n",
        "bounds_df['lower_bound'] = test_uncertainty_plot_df['lower_bound']\n",
        "bounds_df['prediction'] = test_uncertainty_plot_df['log_energy_consumption_mean']\n",
        "bounds_df['real_value'] = truth_uncertainty_plot_df['log_energy_consumption']\n",
        "bounds_df['upper_bound'] = test_uncertainty_plot_df['upper_bound']\n",
        "\n",
        "bounds_df['contained'] = ((bounds_df['real_value'] >= bounds_df['lower_bound']) &\n",
        "                          (bounds_df['real_value'] <= bounds_df['upper_bound']))\n",
        "\n",
        "print(\"Proportion of points contained within 99% confidence interval:\", \n",
        "      bounds_df['contained'].mean())"
      ],
      "execution_count": 17,
      "outputs": [
        {
          "output_type": "stream",
          "name": "stdout",
          "text": [
            "Proportion of points contained within 99% confidence interval: 0.6994818652849741\n"
          ]
        }
      ]
    },
    {
      "cell_type": "code",
      "source": [
        ""
      ],
      "metadata": {
        "id": "6YvYNhKrc0vs"
      },
      "execution_count": null,
      "outputs": []
    },
    {
      "cell_type": "markdown",
      "metadata": {
        "id": "CLrYy9qgxp_C"
      },
      "source": [
        "# Conclusions\n",
        "\n",
        "- Bayesian LSTMs have been able to produce comparable performance to their frequentist counterparts (all else being equal)\n",
        "- Stochastic dropout enables users to approximate the posterior distribution of the target variable, \\\n",
        "and thus construct confidence intervals for each prediction \n",
        "- Bayesian Neural Networks only attempt to account for epistemic model uncertainty and do not necessarily address aleatoric uncertainty\n",
        "- Computational overhead for repeated/multiple Bayesian LSTM predictions at inference to construct confidence intervals represent a potential challenge for real-time inference use-cases."
      ]
    }
  ]
}